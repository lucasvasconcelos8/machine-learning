{
 "cells": [
  {
   "cell_type": "code",
   "execution_count": 67,
   "metadata": {},
   "outputs": [],
   "source": [
    "import matplotlib.pyplot as plt\n",
    "import numpy as np\n",
    "import sklearn\n",
    "import sklearn.datasets\n",
    "import sklearn.linear_model\n",
    "import matplotlib\n",
    "import numpy\n",
    "numpy.set_printoptions(threshold=np.inf)\n",
    "\n",
    "%matplotlib inline"
   ]
  },
  {
   "cell_type": "code",
   "execution_count": 68,
   "metadata": {},
   "outputs": [],
   "source": [
    "#Carregando arquivos com 5000 linhas e 400 colunas de features (dimensoes)\n",
    "data = np.loadtxt(\"ex3data2.txt\", delimiter=',')\n",
    "\n",
    "X = data[ : 306,  : -1]\n",
    "y = data[ : 306,  -1]\n",
    "y = y.reshape((306,1))\n",
    "\n",
    "XTest = data[ : 100,  : -1]\n",
    "yTest = data[ : 100,  -1]\n",
    "yTest = yTest.reshape((100,1))\n",
    "\n",
    "XValid = data[ : 100,  : -1]\n",
    "yValid = data[ : 100,  -1]\n",
    "yValid = yValid.reshape((100,1))\n"
   ]
  },
  {
   "cell_type": "code",
   "execution_count": 69,
   "metadata": {},
   "outputs": [],
   "source": [
    "#definindo informações importantes\n",
    "\n",
    "num_examples = int(306)\n",
    "features = int(13) \n",
    "classes = 1 \n",
    " \n",
    "epsilon = 0.001 \n",
    "reg_lambda = 0.01"
   ]
  },
  {
   "cell_type": "code",
   "execution_count": 70,
   "metadata": {},
   "outputs": [],
   "source": [
    "def predict(model, x):\n",
    "    W1, b1, W2, b2 = model['W1'], model['b1'], model['W2'], model['b2']\n",
    "    # Forward propagation\n",
    "    z1 = x.dot(W1) + b1\n",
    "    a1 = np.tanh(z1)\n",
    "    z2 = a1.dot(W2) + b2\n",
    "    return z2"
   ]
  },
  {
   "cell_type": "code",
   "execution_count": 97,
   "metadata": {},
   "outputs": [],
   "source": [
    "def build_model(nodes_oculta, num_passes=1000):\n",
    "     \n",
    "    np.random.seed(0)\n",
    "    W1 = np.random.randn(features, nodes_oculta) / np.sqrt(features)\n",
    "    b1 = np.zeros((1, nodes_oculta))\n",
    "    W2 = np.random.randn(nodes_oculta, classes) / np.sqrt(nodes_oculta)\n",
    "    b2 = np.zeros((1, classes))\n",
    " \n",
    "    # saida\n",
    "    model = {}\n",
    "    list_erros = []\n",
    "    list_erros_eval = []\n",
    "    last_error = 1000\n",
    "    \n",
    "    # Gradiente descendente.\n",
    "    for i in range(0, num_passes):\n",
    "        \n",
    "        np.random.shuffle(X)\n",
    " \n",
    "        # Forward propagation\n",
    "        z1 = X.dot(W1) + b1\n",
    "        a1 = 1/(1 + np.exp(-z1))\n",
    "        z2 = a1.dot(W2) + b2\n",
    "        probs = z2\n",
    "\n",
    "        # calculo erro\n",
    "        erro = y - probs\n",
    "        \n",
    "        # Backpropagation\n",
    "        delta3 = probs\n",
    "        dW2 = (a1.T).dot(erro)\n",
    "        db2 = np.sum(delta3, axis=0, keepdims=True)\n",
    "        delta2 = delta3.dot(W2.T) * ( 1/(1 + np.exp(-z1)) *  ( 1 - ( 1/(1 + np.exp(-z1)) ) ) )\n",
    "        dW1 = np.dot(X.T, delta2)\n",
    "        db1 = np.sum(delta2, axis=0)\n",
    " \n",
    "        # regularizacao\n",
    "        #dW2 += reg_lambda * W2\n",
    "        #dW1 += reg_lambda * W1\n",
    " \n",
    "        # Gradiente descendente atualizacao\n",
    "        W1 += -epsilon * dW1\n",
    "        b1 += -epsilon * db1\n",
    "        W2 += -epsilon * dW2\n",
    "        b2 += -epsilon * db2\n",
    "         \n",
    "        model = { 'W1': W1, 'b1': b1, 'W2': W2, 'b2': b2}\n",
    "        \n",
    "        erro_eval = yValid - predict(model, XValid)\n",
    "        \n",
    "        erro_epoca = np.sum(np.sum(np.power(erro, np.full(erro.shape, 2)), axis=0)/erro.shape[1])/erro.shape[0]\n",
    "        \n",
    "        erro_eval_epoca = np.sum(np.sum(np.power(erro_eval, np.full(erro_eval.shape, 2)), axis=0)/erro_eval.shape[1])/erro_eval.shape[0]\n",
    "        \n",
    "        list_erros.append(erro_epoca)\n",
    "        list_erros_eval.append(erro_eval_epoca)\n",
    "        \n",
    "        print('Epoch:  {}\\nErro: {}\\nErro Eval: {}'.format(str(i), str(erro_epoca), str(erro_eval_epoca)))\n",
    "        \n",
    "        #if last_error < erro_eval_epoca :\n",
    "        #    break\n",
    "        #else:\n",
    "        #    last_error = erro_eval_epoca\n",
    "     \n",
    "    return model, list_erros, list_erros_eval"
   ]
  },
  {
   "cell_type": "code",
   "execution_count": 98,
   "metadata": {
    "scrolled": true
   },
   "outputs": [
    {
     "name": "stdout",
     "output_type": "stream",
     "text": [
      "Epoch:  0\n",
      "Erro: 723.763510671\n",
      "Erro Eval: 1082.16514785\n",
      "Epoch:  1\n",
      "Erro: 1427.97589637\n",
      "Erro Eval: 512.277683614\n",
      "Epoch:  2\n",
      "Erro: 1756.23186312\n",
      "Erro Eval: 914.962130616\n",
      "Epoch:  3\n",
      "Erro: 2457.7619933\n",
      "Erro Eval: 1439.8325425\n",
      "Epoch:  4\n",
      "Erro: 3281.47808837\n",
      "Erro Eval: 2086.88891926\n",
      "Epoch:  5\n",
      "Erro: 4227.38014831\n",
      "Erro Eval: 2856.1312609\n",
      "Epoch:  6\n",
      "Erro: 5295.46817313\n",
      "Erro Eval: 3747.55956742\n",
      "Epoch:  7\n",
      "Erro: 6485.74216283\n",
      "Erro Eval: 4761.17383882\n",
      "Epoch:  8\n",
      "Erro: 7798.20211741\n",
      "Erro Eval: 5896.97407511\n",
      "Epoch:  9\n",
      "Erro: 9232.84803687\n",
      "Erro Eval: 7154.96027627\n"
     ]
    }
   ],
   "source": [
    "model, list_erros, list_erros_eval = build_model(int(5), num_passes=10)"
   ]
  },
  {
   "cell_type": "code",
   "execution_count": 99,
   "metadata": {},
   "outputs": [
    {
     "data": {
      "image/png": "[encoded data removed]",
      "text/plain": [
       "<matplotlib.figure.Figure at 0x22b293fbc18>"
      ]
     },
     "metadata": {},
     "output_type": "display_data"
    }
   ],
   "source": [
    "plt.plot(np.arange(len(list_erros)), list_erros, label=\"Treino\")\n",
    "plt.plot(np.arange(len(list_erros_eval)), list_erros_eval, label=\"Validação\")\n",
    "plt.xlabel(\"Epochs\")\n",
    "plt.ylabel(\"Error\")\n",
    "plt.legend()\n",
    "plt.show()"
   ]
  },
  {
   "cell_type": "code",
   "execution_count": null,
   "metadata": {},
   "outputs": [],
   "source": []
  }
 ],
 "metadata": {
  "kernelspec": {
   "display_name": "Python 3",
   "language": "python",
   "name": "python3"
  },
  "language_info": {
   "codemirror_mode": {
    "name": "ipython",
    "version": 3
   },
   "file_extension": ".py",
   "mimetype": "text/x-python",
   "name": "python",
   "nbconvert_exporter": "python",
   "pygments_lexer": "ipython3",
   "version": "3.6.2"
  }
 },
 "nbformat": 4,
 "nbformat_minor": 2
}
