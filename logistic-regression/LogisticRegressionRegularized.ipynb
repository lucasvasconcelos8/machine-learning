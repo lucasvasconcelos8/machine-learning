{
 "cells": [
  {
   "cell_type": "code",
   "execution_count": 1,
   "metadata": {},
   "outputs": [],
   "source": [
    "import pandas as pd\n",
    "import numpy as np\n",
    "import matplotlib.pyplot as plt"
   ]
  },
  {
   "cell_type": "code",
   "execution_count": 2,
   "metadata": {},
   "outputs": [
    {
     "data": {
      "text/plain": [
       "array([[ 0.051267 ,  0.69956  ,  1.       ],\n",
       "       [-0.092742 ,  0.68494  ,  1.       ],\n",
       "       [-0.21371  ,  0.69225  ,  1.       ],\n",
       "       [-0.375    ,  0.50219  ,  1.       ],\n",
       "       [-0.51325  ,  0.46564  ,  1.       ],\n",
       "       [-0.52477  ,  0.2098   ,  1.       ],\n",
       "       [-0.39804  ,  0.034357 ,  1.       ],\n",
       "       [-0.30588  , -0.19225  ,  1.       ],\n",
       "       [ 0.016705 , -0.40424  ,  1.       ],\n",
       "       [ 0.13191  , -0.51389  ,  1.       ],\n",
       "       [ 0.38537  , -0.56506  ,  1.       ],\n",
       "       [ 0.52938  , -0.5212   ,  1.       ],\n",
       "       [ 0.63882  , -0.24342  ,  1.       ],\n",
       "       [ 0.73675  , -0.18494  ,  1.       ],\n",
       "       [ 0.54666  ,  0.48757  ,  1.       ],\n",
       "       [ 0.322    ,  0.5826   ,  1.       ],\n",
       "       [ 0.16647  ,  0.53874  ,  1.       ],\n",
       "       [-0.046659 ,  0.81652  ,  1.       ],\n",
       "       [-0.17339  ,  0.69956  ,  1.       ],\n",
       "       [-0.47869  ,  0.63377  ,  1.       ],\n",
       "       [-0.60541  ,  0.59722  ,  1.       ],\n",
       "       [-0.62846  ,  0.33406  ,  1.       ],\n",
       "       [-0.59389  ,  0.005117 ,  1.       ],\n",
       "       [-0.42108  , -0.27266  ,  1.       ],\n",
       "       [-0.11578  , -0.39693  ,  1.       ],\n",
       "       [ 0.20104  , -0.60161  ,  1.       ],\n",
       "       [ 0.46601  , -0.53582  ,  1.       ],\n",
       "       [ 0.67339  , -0.53582  ,  1.       ],\n",
       "       [-0.13882  ,  0.54605  ,  1.       ],\n",
       "       [-0.29435  ,  0.77997  ,  1.       ],\n",
       "       [-0.26555  ,  0.96272  ,  1.       ],\n",
       "       [-0.16187  ,  0.8019   ,  1.       ],\n",
       "       [-0.17339  ,  0.64839  ,  1.       ],\n",
       "       [-0.28283  ,  0.47295  ,  1.       ],\n",
       "       [-0.36348  ,  0.31213  ,  1.       ],\n",
       "       [-0.30012  ,  0.027047 ,  1.       ],\n",
       "       [-0.23675  , -0.21418  ,  1.       ],\n",
       "       [-0.06394  , -0.18494  ,  1.       ],\n",
       "       [ 0.062788 , -0.16301  ,  1.       ],\n",
       "       [ 0.22984  , -0.41155  ,  1.       ],\n",
       "       [ 0.2932   , -0.2288   ,  1.       ],\n",
       "       [ 0.48329  , -0.18494  ,  1.       ],\n",
       "       [ 0.64459  , -0.14108  ,  1.       ],\n",
       "       [ 0.46025  ,  0.012427 ,  1.       ],\n",
       "       [ 0.6273   ,  0.15863  ,  1.       ],\n",
       "       [ 0.57546  ,  0.26827  ,  1.       ],\n",
       "       [ 0.72523  ,  0.44371  ,  1.       ],\n",
       "       [ 0.22408  ,  0.52412  ,  1.       ],\n",
       "       [ 0.44297  ,  0.67032  ,  1.       ],\n",
       "       [ 0.322    ,  0.69225  ,  1.       ],\n",
       "       [ 0.13767  ,  0.57529  ,  1.       ],\n",
       "       [-0.0063364,  0.39985  ,  1.       ],\n",
       "       [-0.092742 ,  0.55336  ,  1.       ],\n",
       "       [-0.20795  ,  0.35599  ,  1.       ],\n",
       "       [-0.20795  ,  0.17325  ,  1.       ],\n",
       "       [-0.43836  ,  0.21711  ,  1.       ],\n",
       "       [-0.21947  , -0.016813 ,  1.       ],\n",
       "       [-0.13882  , -0.27266  ,  1.       ],\n",
       "       [ 0.18376  ,  0.93348  ,  0.       ],\n",
       "       [ 0.22408  ,  0.77997  ,  0.       ],\n",
       "       [ 0.29896  ,  0.61915  ,  0.       ],\n",
       "       [ 0.50634  ,  0.75804  ,  0.       ],\n",
       "       [ 0.61578  ,  0.7288   ,  0.       ],\n",
       "       [ 0.60426  ,  0.59722  ,  0.       ],\n",
       "       [ 0.76555  ,  0.50219  ,  0.       ],\n",
       "       [ 0.92684  ,  0.3633   ,  0.       ],\n",
       "       [ 0.82316  ,  0.27558  ,  0.       ],\n",
       "       [ 0.96141  ,  0.085526 ,  0.       ],\n",
       "       [ 0.93836  ,  0.012427 ,  0.       ],\n",
       "       [ 0.86348  , -0.082602 ,  0.       ],\n",
       "       [ 0.89804  , -0.20687  ,  0.       ],\n",
       "       [ 0.85196  , -0.36769  ,  0.       ],\n",
       "       [ 0.82892  , -0.5212   ,  0.       ],\n",
       "       [ 0.79435  , -0.55775  ,  0.       ],\n",
       "       [ 0.59274  , -0.7405   ,  0.       ],\n",
       "       [ 0.51786  , -0.5943   ,  0.       ],\n",
       "       [ 0.46601  , -0.41886  ,  0.       ],\n",
       "       [ 0.35081  , -0.57968  ,  0.       ],\n",
       "       [ 0.28744  , -0.76974  ,  0.       ],\n",
       "       [ 0.085829 , -0.75512  ,  0.       ],\n",
       "       [ 0.14919  , -0.57968  ,  0.       ],\n",
       "       [-0.13306  , -0.4481   ,  0.       ],\n",
       "       [-0.40956  , -0.41155  ,  0.       ],\n",
       "       [-0.39228  , -0.25804  ,  0.       ],\n",
       "       [-0.74366  , -0.25804  ,  0.       ],\n",
       "       [-0.69758  ,  0.041667 ,  0.       ],\n",
       "       [-0.75518  ,  0.2902   ,  0.       ],\n",
       "       [-0.69758  ,  0.68494  ,  0.       ],\n",
       "       [-0.4038   ,  0.70687  ,  0.       ],\n",
       "       [-0.38076  ,  0.91886  ,  0.       ],\n",
       "       [-0.50749  ,  0.90424  ,  0.       ],\n",
       "       [-0.54781  ,  0.70687  ,  0.       ],\n",
       "       [ 0.10311  ,  0.77997  ,  0.       ],\n",
       "       [ 0.057028 ,  0.91886  ,  0.       ],\n",
       "       [-0.10426  ,  0.99196  ,  0.       ],\n",
       "       [-0.081221 ,  1.1089   ,  0.       ],\n",
       "       [ 0.28744  ,  1.087    ,  0.       ],\n",
       "       [ 0.39689  ,  0.82383  ,  0.       ],\n",
       "       [ 0.63882  ,  0.88962  ,  0.       ],\n",
       "       [ 0.82316  ,  0.66301  ,  0.       ],\n",
       "       [ 0.67339  ,  0.64108  ,  0.       ],\n",
       "       [ 1.0709   ,  0.10015  ,  0.       ],\n",
       "       [-0.046659 , -0.57968  ,  0.       ],\n",
       "       [-0.23675  , -0.63816  ,  0.       ],\n",
       "       [-0.15035  , -0.36769  ,  0.       ],\n",
       "       [-0.49021  , -0.3019   ,  0.       ],\n",
       "       [-0.46717  , -0.13377  ,  0.       ],\n",
       "       [-0.28859  , -0.060673 ,  0.       ],\n",
       "       [-0.61118  , -0.067982 ,  0.       ],\n",
       "       [-0.66302  , -0.21418  ,  0.       ],\n",
       "       [-0.59965  , -0.41886  ,  0.       ],\n",
       "       [-0.72638  , -0.082602 ,  0.       ],\n",
       "       [-0.83007  ,  0.31213  ,  0.       ],\n",
       "       [-0.72062  ,  0.53874  ,  0.       ],\n",
       "       [-0.59389  ,  0.49488  ,  0.       ],\n",
       "       [-0.48445  ,  0.99927  ,  0.       ],\n",
       "       [-0.0063364,  0.99927  ,  0.       ],\n",
       "       [ 0.63265  , -0.030612 ,  0.       ]])"
      ]
     },
     "execution_count": 2,
     "metadata": {},
     "output_type": "execute_result"
    }
   ],
   "source": [
    "df = pd.read_csv(\"ex2data2.txt\", header=None)\n",
    "narray = np.array(df.values)\n",
    "\n",
    "narray"
   ]
  },
  {
   "cell_type": "code",
   "execution_count": 3,
   "metadata": {},
   "outputs": [
    {
     "data": {
      "image/png": "[encoded data removed]",
      "text/plain": [
       "<matplotlib.figure.Figure at 0x1bcc16950f0>"
      ]
     },
     "metadata": {},
     "output_type": "display_data"
    }
   ],
   "source": [
    "x_normed = narray / narray.max(axis=0)\n",
    "\n",
    "plt.scatter(x_normed[ : , 0], x_normed[: ,1],  color='black')\n",
    "\n",
    "plt.show()"
   ]
  },
  {
   "cell_type": "code",
   "execution_count": null,
   "metadata": {},
   "outputs": [],
   "source": [
    "def mapFeature(X1, X2):\n",
    "    degree = 6\n",
    "    out = np.ones(( X1.shape[0], sum(range(degree + 2)) ))\n",
    "    curr_column = 1\n",
    "    for i in xrange(1, degree + 1):\n",
    "        for j in xrange(i+1):\n",
    "            out[:,curr_column] = np.power(X1,i-j) * np.power(X2,j)\n",
    "            curr_column += 1\n",
    "\n",
    "    return out"
   ]
  },
  {
   "cell_type": "code",
   "execution_count": 4,
   "metadata": {},
   "outputs": [],
   "source": [
    "def plotData(X, y):\n",
    "    pos = np.where(y==1)\n",
    "    neg = np.where(y==0)\n",
    "    \n",
    "    p1 = plt.plot(X[pos,0], X[pos,1], marker='+', markersize=9, color='g')[0]\n",
    "    p2 = plt.plot(X[neg,0], X[neg,1], marker='o', markersize=7, color='r')[0]\n",
    "\n",
    "\n",
    "    return plt, p1, p2"
   ]
  },
  {
   "cell_type": "code",
   "execution_count": 6,
   "metadata": {},
   "outputs": [
    {
     "data": {
      "image/png": "[encoded data removed]",
      "text/plain": [
       "<matplotlib.figure.Figure at 0x1bcc166d3c8>"
      ]
     },
     "metadata": {},
     "output_type": "display_data"
    }
   ],
   "source": [
    "plt, p1, p2 = plotData(x_normed[ :  , :-1], x_normed[ : , -1])\n",
    "\n",
    "# # Labels and Legend\n",
    "plt.xlabel('Teste 1')\n",
    "plt.ylabel('Teste 2')\n",
    "plt.legend((p1, p2), ('Passou', 'Não Passou'), numpoints=1, handlelength=0)\n",
    "\n",
    "plt.show()"
   ]
  },
  {
   "cell_type": "code",
   "execution_count": null,
   "metadata": {},
   "outputs": [],
   "source": [
    "def plotDecisionBoundary(theta, X, y):\n",
    "    fig = plt.figure()\n",
    "\n",
    "    plt, p1, p2 = pd.plotData(X[:,1:3], y)\n",
    "\n",
    "    plt.hold(True)\n",
    "\n",
    "    if X.shape[1] <= 3:\n",
    "        # Only need 2 points to define a line, so choose two endpoints\n",
    "        plot_x = np.array([min(X[:,1])-2,  max(X[:,1])+2])\n",
    "\n",
    "        # Calculate the decision boundary line\n",
    "        plot_y = (-1./theta[2])*(theta[1]*plot_x + theta[0])\n",
    "\n",
    "        # Plot, and adjust axes for better viewing\n",
    "        p3 = plt.plot(plot_x, plot_y)\n",
    "        \n",
    "        # Legend, specific for the exercise\n",
    "        plt.legend((p1, p2, p3[0]), ('Admitted', 'Not Admitted', 'Decision Boundary'), numpoints=1, handlelength=0.5)\n",
    "\n",
    "        plt.axis([30, 100, 30, 100])\n",
    "\n",
    "        plt.show(block=False)\n",
    "    else:\n",
    "        # Here is the grid range\n",
    "        u = np.linspace(-1, 1.5, 50)\n",
    "        v = np.linspace(-1, 1.5, 50)\n",
    "\n",
    "        z = np.zeros(( len(u), len(v) ))\n",
    "        # Evaluate z = theta*x over the grid\n",
    "        for i in xrange(len(u)):\n",
    "            for j in xrange(len(v)):\n",
    "                z[i,j] = np.dot(mf.mapFeature(np.array([u[i]]), np.array([v[j]])),theta)\n",
    "        z = np.transpose(z) # important to transpose z before calling contour\n",
    "\n",
    "        # Plot z = 0\n",
    "        # Notice you need to specify the level 0\n",
    "        # we get collections[0] so that we can display a legend properly\n",
    "        p3 = plt.contour(u, v, z, levels=[0], linewidth=2).collections[0]\n",
    "        \n",
    "        # Legend, specific for the exercise\n",
    "        plt.legend((p1,p2, p3),('y = 1', 'y = 0', 'Decision Boundary'), numpoints=1, handlelength=0)\n",
    "\n",
    "        plt.show(block=False)\n",
    "\n",
    "    plt.hold(False) # prevents further drawing on plot"
   ]
  },
  {
   "cell_type": "code",
   "execution_count": null,
   "metadata": {},
   "outputs": [],
   "source": [
    "def predict(row, coefs):\n",
    "    z = coefs[0]\n",
    "    for i in range(len(row)-1):\n",
    "        z += coefs[i + 1] * row[i]\n",
    "    ypred = 1 / (1 + np.exp(-z))\n",
    "    return ypred"
   ]
  },
  {
   "cell_type": "code",
   "execution_count": null,
   "metadata": {},
   "outputs": [],
   "source": [
    "lambdas = np.array([0,1,2,3,4,5,6,7,8,9,10,11,12,13,14,15])\n",
    "list_lambd = []\n",
    "list_eqm = []\n",
    "for lambd in lambdas:\n",
    "    coefs = coefs_OLS(X,Y, lambd)\n",
    "    Ypred = X.dot(coefs)\n",
    "    erro = Y - Ypred\n",
    "    erroQuad = erro**2\n",
    "    eqm = np.mean(erroQuad)\n",
    "    list_lambd.append(lambd)\n",
    "    list_eqm.append(eqm)\n",
    "    \n",
    "plt.plot(list_lambd, list_eqm)\n",
    "plt.xlabel(\"Lambda\")\n",
    "plt.ylabel(\"EQM\")\n",
    "plt.show()"
   ]
  }
 ],
 "metadata": {
  "kernelspec": {
   "display_name": "Python 3",
   "language": "python",
   "name": "python3"
  },
  "language_info": {
   "codemirror_mode": {
    "name": "ipython",
    "version": 3
   },
   "file_extension": ".py",
   "mimetype": "text/x-python",
   "name": "python",
   "nbconvert_exporter": "python",
   "pygments_lexer": "ipython3",
   "version": "3.6.2"
  }
 },
 "nbformat": 4,
 "nbformat_minor": 2
}
