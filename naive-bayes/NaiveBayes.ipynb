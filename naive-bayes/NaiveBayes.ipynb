{
 "cells": [
  {
   "cell_type": "code",
   "execution_count": 2,
   "metadata": {},
   "outputs": [],
   "source": [
    "import numpy as np\n",
    "import numpy\n",
    "numpy.set_printoptions(threshold=numpy.nan)"
   ]
  },
  {
   "cell_type": "code",
   "execution_count": 3,
   "metadata": {},
   "outputs": [],
   "source": [
    "import scipy.io\n",
    "mat = scipy.io.loadmat('DadosLista4.mat')"
   ]
  },
  {
   "cell_type": "code",
   "execution_count": 4,
   "metadata": {},
   "outputs": [],
   "source": [
    "dados = np.array(mat['Dados'])\n",
    "y = np.array(mat['y'])"
   ]
  },
  {
   "cell_type": "code",
   "execution_count": 5,
   "metadata": {},
   "outputs": [],
   "source": [
    "sizeDados = len(dados)\n",
    "dados1, dados2, dados3 = dados[ : int((sizeDados/3))] , dados[int((sizeDados/3)) : int((2*sizeDados/3)) ], dados[ int((2*sizeDados/3)) : ]\n",
    "y1, y2, y3 = y[ : int((sizeDados/3))] , y[int((sizeDados/3)) : int((2*sizeDados/3)) ], y[ int((2*sizeDados/3)) : ]"
   ]
  },
  {
   "cell_type": "code",
   "execution_count": 6,
   "metadata": {},
   "outputs": [],
   "source": [
    "#Classe 1 treino\n",
    "randomTreino1 = np.random.choice(dados1.shape[0], 200, replace=False)\n",
    "dadosTreino1 = dados1[randomTreino1]\n",
    "yTreino1 = y1[randomTreino1]\n",
    "\n",
    "#Classe 1 treino\n",
    "randomTreino2 = np.random.choice(dados2.shape[0], 200, replace=False)\n",
    "dadosTreino2 = dados2[randomTreino2]\n",
    "yTreino2 = y2[randomTreino2]\n",
    "\n",
    "#Classe 1 treino\n",
    "randomTreino3 = np.random.choice(dados3.shape[0], 200, replace=False)\n",
    "dadosTreino3 = dados3[randomTreino3]\n",
    "yTreino3 = y3[randomTreino3]\n",
    "\n"
   ]
  },
  {
   "cell_type": "code",
   "execution_count": 7,
   "metadata": {},
   "outputs": [],
   "source": [
    "#Classe 1 teste\n",
    "a1_rows = set(map(tuple, dados1))\n",
    "a2_rows = set(map(tuple, dadosTreino1))\n",
    "dadosTeste1 = np.array(list(a1_rows.difference(a2_rows)))\n",
    "yTeste1 = np.ones((300,1))\n",
    "\n",
    "#Classe 2 teste\n",
    "a1_rows = set(map(tuple, dados2))\n",
    "a2_rows = set(map(tuple, dadosTreino2))\n",
    "dadosTeste2 = np.array(list(a1_rows.difference(a2_rows)))\n",
    "yTeste2 = np.full((300,1), 2)\n",
    "\n",
    "#Classe 3 teste\n",
    "a1_rows = set(map(tuple, dados3))\n",
    "a2_rows = set(map(tuple, dadosTreino3))\n",
    "dadosTeste3 = np.array(list(a1_rows.difference(a2_rows)))\n",
    "yTeste3 = np.full( (300,1), 3)\n"
   ]
  },
  {
   "cell_type": "code",
   "execution_count": 8,
   "metadata": {},
   "outputs": [
    {
     "data": {
      "text/plain": [
       "600"
      ]
     },
     "execution_count": 8,
     "metadata": {},
     "output_type": "execute_result"
    }
   ],
   "source": [
    "dadosTreino = np.concatenate((dadosTreino1, dadosTreino2, dadosTreino3), axis=0)\n",
    "len(dadosTreino)"
   ]
  },
  {
   "cell_type": "code",
   "execution_count": 9,
   "metadata": {},
   "outputs": [
    {
     "data": {
      "text/plain": [
       "900"
      ]
     },
     "execution_count": 9,
     "metadata": {},
     "output_type": "execute_result"
    }
   ],
   "source": [
    "dadosTeste = np.concatenate((dadosTeste1, dadosTeste2, dadosTeste3), axis=0)\n",
    "len(dadosTeste)"
   ]
  },
  {
   "cell_type": "code",
   "execution_count": 10,
   "metadata": {},
   "outputs": [
    {
     "data": {
      "text/plain": [
       "600"
      ]
     },
     "execution_count": 10,
     "metadata": {},
     "output_type": "execute_result"
    }
   ],
   "source": [
    "yTreino = np.concatenate((yTreino1, yTreino2, yTreino3), axis=0 )\n",
    "len(yTreino)"
   ]
  },
  {
   "cell_type": "code",
   "execution_count": 11,
   "metadata": {},
   "outputs": [
    {
     "data": {
      "text/plain": [
       "900"
      ]
     },
     "execution_count": 11,
     "metadata": {},
     "output_type": "execute_result"
    }
   ],
   "source": [
    "yTeste = np.concatenate( (yTeste1, yTeste2, yTeste3), axis=0)\n",
    "len(yTeste)"
   ]
  },
  {
   "cell_type": "code",
   "execution_count": 39,
   "metadata": {},
   "outputs": [],
   "source": [
    "#calcula mi\n",
    "miG = dadosTreino.mean(axis=0)\n",
    "mi1 = dadosTreino1.mean(axis=0)\n",
    "mi2 = dadosTreino2.mean(axis=0)\n",
    "mi3 = dadosTreino3.mean(axis=0)"
   ]
  },
  {
   "cell_type": "code",
   "execution_count": 61,
   "metadata": {},
   "outputs": [
    {
     "name": "stdout",
     "output_type": "stream",
     "text": [
      "[ 0.51511652  0.31993237]\n",
      "[ 0.70619913  0.50677432]\n",
      "[-0.19108262 -0.18684195]\n",
      "[[ 7.30251325  7.14044978]\n",
      " [ 7.14044978  6.98198295]]\n",
      "(2, 2)\n"
     ]
    },
    {
     "ename": "TypeError",
     "evalue": "'numpy.float64' object is not iterable",
     "output_type": "error",
     "traceback": [
      "\u001b[0;31m---------------------------------------------------------------------------\u001b[0m",
      "\u001b[0;31mTypeError\u001b[0m                                 Traceback (most recent call last)",
      "\u001b[0;32m<ipython-input-61-794d7ef009e5>\u001b[0m in \u001b[0;36m<module>\u001b[0;34m()\u001b[0m\n\u001b[1;32m     20\u001b[0m \u001b[0mprint\u001b[0m\u001b[0;34m(\u001b[0m\u001b[0mec1\u001b[0m\u001b[0;34m.\u001b[0m\u001b[0mshape\u001b[0m\u001b[0;34m)\u001b[0m\u001b[0;34m\u001b[0m\u001b[0m\n\u001b[1;32m     21\u001b[0m \u001b[0;34m\u001b[0m\u001b[0m\n\u001b[0;32m---> 22\u001b[0;31m \u001b[0msum2\u001b[0m \u001b[0;34m=\u001b[0m \u001b[0;34m[\u001b[0m\u001b[0msum\u001b[0m\u001b[0;34m(\u001b[0m\u001b[0;34m(\u001b[0m\u001b[0mdadosTreino2\u001b[0m\u001b[0;34m[\u001b[0m\u001b[0mlinha\u001b[0m\u001b[0;34m]\u001b[0m \u001b[0;34m-\u001b[0m\u001b[0mmi2\u001b[0m\u001b[0;34m)\u001b[0m\u001b[0;34m.\u001b[0m\u001b[0mdot\u001b[0m\u001b[0;34m(\u001b[0m \u001b[0;34m(\u001b[0m\u001b[0mdadosTreino2\u001b[0m\u001b[0;34m[\u001b[0m\u001b[0mlinha\u001b[0m\u001b[0;34m]\u001b[0m \u001b[0;34m-\u001b[0m \u001b[0mmi2\u001b[0m\u001b[0;34m)\u001b[0m\u001b[0;34m.\u001b[0m\u001b[0mT\u001b[0m \u001b[0;34m)\u001b[0m\u001b[0;34m)\u001b[0m \u001b[0;32mfor\u001b[0m \u001b[0mlinha\u001b[0m \u001b[0;32min\u001b[0m \u001b[0mrange\u001b[0m\u001b[0;34m(\u001b[0m\u001b[0mn2\u001b[0m\u001b[0;34m)\u001b[0m\u001b[0;34m]\u001b[0m\u001b[0;34m\u001b[0m\u001b[0m\n\u001b[0m\u001b[1;32m     23\u001b[0m \u001b[0mec2\u001b[0m \u001b[0;34m=\u001b[0m \u001b[0mnp\u001b[0m\u001b[0;34m.\u001b[0m\u001b[0marray\u001b[0m\u001b[0;34m(\u001b[0m\u001b[0msum2\u001b[0m\u001b[0;34m)\u001b[0m \u001b[0;34m/\u001b[0m \u001b[0;34m(\u001b[0m\u001b[0mn2\u001b[0m \u001b[0;34m-\u001b[0m \u001b[0;36m1\u001b[0m\u001b[0;34m)\u001b[0m\u001b[0;34m\u001b[0m\u001b[0m\n\u001b[1;32m     24\u001b[0m \u001b[0;34m\u001b[0m\u001b[0m\n",
      "\u001b[0;32m<ipython-input-61-794d7ef009e5>\u001b[0m in \u001b[0;36m<listcomp>\u001b[0;34m(.0)\u001b[0m\n\u001b[1;32m     20\u001b[0m \u001b[0mprint\u001b[0m\u001b[0;34m(\u001b[0m\u001b[0mec1\u001b[0m\u001b[0;34m.\u001b[0m\u001b[0mshape\u001b[0m\u001b[0;34m)\u001b[0m\u001b[0;34m\u001b[0m\u001b[0m\n\u001b[1;32m     21\u001b[0m \u001b[0;34m\u001b[0m\u001b[0m\n\u001b[0;32m---> 22\u001b[0;31m \u001b[0msum2\u001b[0m \u001b[0;34m=\u001b[0m \u001b[0;34m[\u001b[0m\u001b[0msum\u001b[0m\u001b[0;34m(\u001b[0m\u001b[0;34m(\u001b[0m\u001b[0mdadosTreino2\u001b[0m\u001b[0;34m[\u001b[0m\u001b[0mlinha\u001b[0m\u001b[0;34m]\u001b[0m \u001b[0;34m-\u001b[0m\u001b[0mmi2\u001b[0m\u001b[0;34m)\u001b[0m\u001b[0;34m.\u001b[0m\u001b[0mdot\u001b[0m\u001b[0;34m(\u001b[0m \u001b[0;34m(\u001b[0m\u001b[0mdadosTreino2\u001b[0m\u001b[0;34m[\u001b[0m\u001b[0mlinha\u001b[0m\u001b[0;34m]\u001b[0m \u001b[0;34m-\u001b[0m \u001b[0mmi2\u001b[0m\u001b[0;34m)\u001b[0m\u001b[0;34m.\u001b[0m\u001b[0mT\u001b[0m \u001b[0;34m)\u001b[0m\u001b[0;34m)\u001b[0m \u001b[0;32mfor\u001b[0m \u001b[0mlinha\u001b[0m \u001b[0;32min\u001b[0m \u001b[0mrange\u001b[0m\u001b[0;34m(\u001b[0m\u001b[0mn2\u001b[0m\u001b[0;34m)\u001b[0m\u001b[0;34m]\u001b[0m\u001b[0;34m\u001b[0m\u001b[0m\n\u001b[0m\u001b[1;32m     23\u001b[0m \u001b[0mec2\u001b[0m \u001b[0;34m=\u001b[0m \u001b[0mnp\u001b[0m\u001b[0;34m.\u001b[0m\u001b[0marray\u001b[0m\u001b[0;34m(\u001b[0m\u001b[0msum2\u001b[0m\u001b[0;34m)\u001b[0m \u001b[0;34m/\u001b[0m \u001b[0;34m(\u001b[0m\u001b[0mn2\u001b[0m \u001b[0;34m-\u001b[0m \u001b[0;36m1\u001b[0m\u001b[0;34m)\u001b[0m\u001b[0;34m\u001b[0m\u001b[0m\n\u001b[1;32m     24\u001b[0m \u001b[0;34m\u001b[0m\u001b[0m\n",
      "\u001b[0;31mTypeError\u001b[0m: 'numpy.float64' object is not iterable"
     ]
    }
   ],
   "source": [
    "#somatorio\n",
    "n1 = dadosTreino1.shape[0]\n",
    "n2 = dadosTreino2.shape[0]\n",
    "n3 = dadosTreino3.shape[0]\n",
    "\n",
    "print(dadosTreino1[0])\n",
    "print(mi1)\n",
    "print(dadosTreino1[0] - mi1)\n",
    "\n",
    "\n",
    "\n",
    "#sum1 = [(dadosTreino1[linha] - mi1).dot( (dadosTreino1[linha] - mi1).T ) for linha in range(n1)]\n",
    "aux = (dadosTreino1[0] - mi1)\n",
    "sum1 = [ np.reshape(aux, (1,2)).T.dot(np.reshape(aux, (1,2))) for linha in range(n1)]\n",
    "\n",
    "sum1 = np.sum(np.array(sum1), axis=0)\n",
    "print(sum1)\n",
    "\n",
    "ec1 = sum1 / (n1 - 1)\n",
    "print(ec1.shape)\n",
    "\n",
    "#sum2 = [sum((dadosTreino2[linha] -mi2).dot( (dadosTreino2[linha] - mi2).T )) for linha in range(n2)]\n",
    "aux = (dadosTreino2[0] - mi2)\n",
    "sum2 = [ np.reshape(aux, (1,2)).T.dot(np.reshape(aux, (1,2))) for linha in range(n2)]\n",
    "\n",
    "sum2 = np.sum(np.array(sum2), axis=0)\n",
    "\n",
    "ec2 = np.array(sum2) / (n2 - 1)\n",
    "\n",
    "#sum3 = [sum((dadosTreino3[linha] -mi3).dot( (dadosTreino3[linha] - mi3).T )) for linha in range(n3)]\n",
    "aux = (dadosTreino3[0] - mi3)\n",
    "sum3 = [ np.reshape(aux, (1,2)).T.dot(np.reshape(aux, (1,2))) for linha in range(n3)]\n",
    "\n",
    "sum3 = np.sum(np.array(sum3), axis=0)\n",
    "\n",
    "ec3 = np.array(sum3) / (n3 - 1)"
   ]
  },
  {
   "cell_type": "code",
   "execution_count": 40,
   "metadata": {},
   "outputs": [],
   "source": [
    "#Probabilidade de x para a classe C referente ao mi e ec(sigma) => P(x|c)\n",
    "def prob(mi, ec, x):\n",
    "    np.exp( (-1/2) * (x - mi).T * np.linalg.inv(ec) * (x - mi)  )"
   ]
  },
  {
   "cell_type": "code",
   "execution_count": null,
   "metadata": {},
   "outputs": [],
   "source": []
  }
 ],
 "metadata": {
  "kernelspec": {
   "display_name": "Python 3",
   "language": "python",
   "name": "python3"
  },
  "language_info": {
   "codemirror_mode": {
    "name": "ipython",
    "version": 3
   },
   "file_extension": ".py",
   "mimetype": "text/x-python",
   "name": "python",
   "nbconvert_exporter": "python",
   "pygments_lexer": "ipython3",
   "version": "3.6.2"
  }
 },
 "nbformat": 4,
 "nbformat_minor": 2
}
