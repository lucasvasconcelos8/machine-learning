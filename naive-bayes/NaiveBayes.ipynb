{
 "cells": [
  {
   "cell_type": "code",
   "execution_count": 11,
   "metadata": {},
   "outputs": [],
   "source": [
    "import numpy as np\n",
    "import numpy\n",
    "numpy.set_printoptions(threshold=numpy.nan)"
   ]
  },
  {
   "cell_type": "code",
   "execution_count": 3,
   "metadata": {},
   "outputs": [],
   "source": [
    "import scipy.io\n",
    "mat = scipy.io.loadmat('DadosLista4.mat')"
   ]
  },
  {
   "cell_type": "code",
   "execution_count": 88,
   "metadata": {},
   "outputs": [],
   "source": [
    "dados = np.array(mat['Dados'])\n",
    "y = np.array(mat['y'])"
   ]
  },
  {
   "cell_type": "code",
   "execution_count": 80,
   "metadata": {},
   "outputs": [],
   "source": [
    "sizeDados = len(dados)\n",
    "dados1, dados2, dados3 = dados[ : int((sizeDados/3))] , dados[int((sizeDados/3)) : int((2*sizeDados/3)) ], dados[ int((2*sizeDados/3)) : ]\n",
    "y1, y2, y3 = y[ : int((sizeDados/3))] , y[int((sizeDados/3)) : int((2*sizeDados/3)) ], y[ int((2*sizeDados/3)) : ]"
   ]
  },
  {
   "cell_type": "code",
   "execution_count": 79,
   "metadata": {},
   "outputs": [],
   "source": [
    "#Classe 1 treino\n",
    "randomTreino1 = np.random.choice(dados1.shape[0], 200, replace=False)\n",
    "dadosTreino1 = dados1[randomTreino1]\n",
    "yTreino1 = y1[randomTreino1]\n",
    "\n",
    "#Classe 1 treino\n",
    "randomTreino2 = np.random.choice(dados2.shape[0], 200, replace=False)\n",
    "dadosTreino2 = dados2[randomTreino2]\n",
    "yTreino2 = y2[randomTreino2]\n",
    "\n",
    "#Classe 1 treino\n",
    "randomTreino3 = np.random.choice(dados3.shape[0], 200, replace=False)\n",
    "dadosTreino3 = dados3[randomTreino3]\n",
    "yTreino3 = y3[randomTreino3]\n",
    "\n"
   ]
  },
  {
   "cell_type": "code",
   "execution_count": 99,
   "metadata": {},
   "outputs": [],
   "source": [
    "#Classe 1 teste\n",
    "a1_rows = set(map(tuple, dados1))\n",
    "a2_rows = set(map(tuple, dadosTreino1))\n",
    "dadosTeste1 = np.array(list(a1_rows.difference(a2_rows)))\n",
    "yTeste1 = np.ones((300,1))\n",
    "\n",
    "#Classe 2 teste\n",
    "a1_rows = set(map(tuple, dados2))\n",
    "a2_rows = set(map(tuple, dadosTreino2))\n",
    "dadosTeste2 = np.array(list(a1_rows.difference(a2_rows)))\n",
    "yTeste2 = np.full((300,1), 2)\n",
    "\n",
    "#Classe 3 teste\n",
    "a1_rows = set(map(tuple, dados3))\n",
    "a2_rows = set(map(tuple, dadosTreino3))\n",
    "dadosTeste3 = np.array(list(a1_rows.difference(a2_rows)))\n",
    "yTeste3 = np.full( (300,1), 3)\n"
   ]
  },
  {
   "cell_type": "code",
   "execution_count": 100,
   "metadata": {},
   "outputs": [
    {
     "data": {
      "text/plain": [
       "600"
      ]
     },
     "execution_count": 100,
     "metadata": {},
     "output_type": "execute_result"
    }
   ],
   "source": [
    "dadosTreino = np.concatenate((dadosTreino1, dadosTreino2, dadosTreino3), axis=0)\n",
    "len(dadosTreino)"
   ]
  },
  {
   "cell_type": "code",
   "execution_count": 101,
   "metadata": {},
   "outputs": [
    {
     "data": {
      "text/plain": [
       "900"
      ]
     },
     "execution_count": 101,
     "metadata": {},
     "output_type": "execute_result"
    }
   ],
   "source": [
    "dadosTeste = np.concatenate((dadosTeste1, dadosTeste2, dadosTeste3), axis=0)\n",
    "len(dadosTeste)"
   ]
  },
  {
   "cell_type": "code",
   "execution_count": 102,
   "metadata": {},
   "outputs": [
    {
     "data": {
      "text/plain": [
       "600"
      ]
     },
     "execution_count": 102,
     "metadata": {},
     "output_type": "execute_result"
    }
   ],
   "source": [
    "yTreino = np.concatenate((yTreino1, yTreino2, yTreino3), axis=0 )\n",
    "len(yTreino)"
   ]
  },
  {
   "cell_type": "code",
   "execution_count": 103,
   "metadata": {},
   "outputs": [
    {
     "data": {
      "text/plain": [
       "900"
      ]
     },
     "execution_count": 103,
     "metadata": {},
     "output_type": "execute_result"
    }
   ],
   "source": [
    "yTeste = np.concatenate( (yTeste1, yTeste2, yTeste3), axis=0)\n",
    "len(yTeste)"
   ]
  },
  {
   "cell_type": "code",
   "execution_count": 109,
   "metadata": {},
   "outputs": [],
   "source": [
    "#calcula mi\n",
    "mi = dadosTreino.mean(axis=0)\n",
    "mi1 = dadosTreino1.mean(axis=0)\n",
    "mi2 = dadosTreino2.mean(axis=0)\n",
    "mi3 = dadosTreino3.mean(axis=0)"
   ]
  },
  {
   "cell_type": "code",
   "execution_count": 114,
   "metadata": {},
   "outputs": [
    {
     "data": {
      "text/plain": [
       "(200, 200)"
      ]
     },
     "execution_count": 114,
     "metadata": {},
     "output_type": "execute_result"
    }
   ],
   "source": [
    "#somatorio\n",
    "aux = dadosTreino - mi\n",
    "ec = aux.dot(aux.T)\n",
    "\n",
    "aux1 = dadosTreino1 - mi\n",
    "ec1 = aux1.dot(aux1.T)\n",
    "\n",
    "aux2 = dadosTreino2 - mi\n",
    "ec2 = aux2.dot(aux2.T)\n",
    "\n",
    "aux3 = dadosTreino3 - mi\n",
    "ec3 = aux3.dot(aux3.T)"
   ]
  },
  {
   "cell_type": "code",
   "execution_count": 113,
   "metadata": {},
   "outputs": [
    {
     "ename": "ValueError",
     "evalue": "operands could not be broadcast together with shapes (2,200) (200,200) ",
     "output_type": "error",
     "traceback": [
      "\u001b[0;31m---------------------------------------------------------------------------\u001b[0m",
      "\u001b[0;31mValueError\u001b[0m                                Traceback (most recent call last)",
      "\u001b[0;32m<ipython-input-113-295925caac72>\u001b[0m in \u001b[0;36m<module>\u001b[0;34m()\u001b[0m\n\u001b[0;32m----> 1\u001b[0;31m \u001b[0mpXC1\u001b[0m \u001b[0;34m=\u001b[0m \u001b[0mnp\u001b[0m\u001b[0;34m.\u001b[0m\u001b[0mexp\u001b[0m\u001b[0;34m(\u001b[0m \u001b[0;34m(\u001b[0m\u001b[0;34m-\u001b[0m\u001b[0;36m1\u001b[0m\u001b[0;34m/\u001b[0m\u001b[0;36m2\u001b[0m\u001b[0;34m)\u001b[0m \u001b[0;34m*\u001b[0m \u001b[0;34m(\u001b[0m\u001b[0mdadosTreino1\u001b[0m \u001b[0;34m-\u001b[0m \u001b[0mmi1\u001b[0m\u001b[0;34m)\u001b[0m\u001b[0;34m.\u001b[0m\u001b[0mT\u001b[0m \u001b[0;34m*\u001b[0m \u001b[0mnp\u001b[0m\u001b[0;34m.\u001b[0m\u001b[0mlinalg\u001b[0m\u001b[0;34m.\u001b[0m\u001b[0minv\u001b[0m\u001b[0;34m(\u001b[0m\u001b[0mec1\u001b[0m\u001b[0;34m)\u001b[0m  \u001b[0;34m)\u001b[0m\u001b[0;34m\u001b[0m\u001b[0m\n\u001b[0m\u001b[1;32m      2\u001b[0m \u001b[0mpXC2\u001b[0m \u001b[0;34m=\u001b[0m \u001b[0mnp\u001b[0m\u001b[0;34m.\u001b[0m\u001b[0mexp\u001b[0m\u001b[0;34m(\u001b[0m \u001b[0;34m(\u001b[0m\u001b[0;34m-\u001b[0m\u001b[0;36m1\u001b[0m\u001b[0;34m/\u001b[0m\u001b[0;36m2\u001b[0m\u001b[0;34m)\u001b[0m \u001b[0;34m*\u001b[0m \u001b[0;34m(\u001b[0m\u001b[0mdadosTreino2\u001b[0m \u001b[0;34m-\u001b[0m \u001b[0mmi1\u001b[0m\u001b[0;34m)\u001b[0m\u001b[0;34m.\u001b[0m\u001b[0mT\u001b[0m \u001b[0;34m*\u001b[0m \u001b[0mnp\u001b[0m\u001b[0;34m.\u001b[0m\u001b[0mlinalg\u001b[0m\u001b[0;34m.\u001b[0m\u001b[0minv\u001b[0m\u001b[0;34m(\u001b[0m\u001b[0mec2\u001b[0m\u001b[0;34m)\u001b[0m  \u001b[0;34m)\u001b[0m\u001b[0;34m\u001b[0m\u001b[0m\n\u001b[1;32m      3\u001b[0m \u001b[0mpxC3\u001b[0m \u001b[0;34m=\u001b[0m \u001b[0mnp\u001b[0m\u001b[0;34m.\u001b[0m\u001b[0mexp\u001b[0m\u001b[0;34m(\u001b[0m \u001b[0;34m(\u001b[0m\u001b[0;34m-\u001b[0m\u001b[0;36m1\u001b[0m\u001b[0;34m/\u001b[0m\u001b[0;36m2\u001b[0m\u001b[0;34m)\u001b[0m \u001b[0;34m*\u001b[0m \u001b[0;34m(\u001b[0m\u001b[0mdadosTreino3\u001b[0m \u001b[0;34m-\u001b[0m \u001b[0mmi1\u001b[0m\u001b[0;34m)\u001b[0m\u001b[0;34m.\u001b[0m\u001b[0mT\u001b[0m \u001b[0;34m*\u001b[0m \u001b[0mnp\u001b[0m\u001b[0;34m.\u001b[0m\u001b[0mlinalg\u001b[0m\u001b[0;34m.\u001b[0m\u001b[0minv\u001b[0m\u001b[0;34m(\u001b[0m\u001b[0mec3\u001b[0m\u001b[0;34m)\u001b[0m  \u001b[0;34m)\u001b[0m\u001b[0;34m\u001b[0m\u001b[0m\n",
      "\u001b[0;31mValueError\u001b[0m: operands could not be broadcast together with shapes (2,200) (200,200) "
     ]
    }
   ],
   "source": [
    "pXC1 = np.exp( (-1/2) * (dadosTreino1 - mi1).T * np.linalg.inv(ec1)  )\n",
    "pXC2 = np.exp( (-1/2) * (dadosTreino2 - mi1).T * np.linalg.inv(ec2)  )\n",
    "pxC3 = np.exp( (-1/2) * (dadosTreino3 - mi1).T * np.linalg.inv(ec3)  )"
   ]
  },
  {
   "cell_type": "code",
   "execution_count": null,
   "metadata": {},
   "outputs": [],
   "source": []
  }
 ],
 "metadata": {
  "kernelspec": {
   "display_name": "Python 3",
   "language": "python",
   "name": "python3"
  },
  "language_info": {
   "codemirror_mode": {
    "name": "ipython",
    "version": 3
   },
   "file_extension": ".py",
   "mimetype": "text/x-python",
   "name": "python",
   "nbconvert_exporter": "python",
   "pygments_lexer": "ipython3",
   "version": "3.6.2"
  }
 },
 "nbformat": 4,
 "nbformat_minor": 2
}
