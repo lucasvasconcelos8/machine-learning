{
 "cells": [
  {
   "cell_type": "code",
   "execution_count": 2,
   "metadata": {},
   "outputs": [],
   "source": [
    "import numpy as np\n",
    "import numpy\n",
    "numpy.set_printoptions(threshold=numpy.nan)"
   ]
  },
  {
   "cell_type": "code",
   "execution_count": 3,
   "metadata": {},
   "outputs": [],
   "source": [
    "import scipy.io\n",
    "mat = scipy.io.loadmat('DadosLista4.mat')"
   ]
  },
  {
   "cell_type": "code",
   "execution_count": 4,
   "metadata": {},
   "outputs": [],
   "source": [
    "dados = np.array(mat['Dados'])\n",
    "y = np.array(mat['y'])"
   ]
  },
  {
   "cell_type": "code",
   "execution_count": 5,
   "metadata": {},
   "outputs": [],
   "source": [
    "sizeDados = len(dados)\n",
    "dados1, dados2, dados3 = dados[ : int((sizeDados/3))] , dados[int((sizeDados/3)) : int((2*sizeDados/3)) ], dados[ int((2*sizeDados/3)) : ]\n",
    "y1, y2, y3 = y[ : int((sizeDados/3))] , y[int((sizeDados/3)) : int((2*sizeDados/3)) ], y[ int((2*sizeDados/3)) : ]"
   ]
  },
  {
   "cell_type": "code",
   "execution_count": 6,
   "metadata": {},
   "outputs": [],
   "source": [
    "#Classe 1 treino\n",
    "randomTreino1 = np.random.choice(dados1.shape[0], 200, replace=False)\n",
    "dadosTreino1 = dados1[randomTreino1]\n",
    "yTreino1 = y1[randomTreino1]\n",
    "\n",
    "#Classe 1 treino\n",
    "randomTreino2 = np.random.choice(dados2.shape[0], 200, replace=False)\n",
    "dadosTreino2 = dados2[randomTreino2]\n",
    "yTreino2 = y2[randomTreino2]\n",
    "\n",
    "#Classe 1 treino\n",
    "randomTreino3 = np.random.choice(dados3.shape[0], 200, replace=False)\n",
    "dadosTreino3 = dados3[randomTreino3]\n",
    "yTreino3 = y3[randomTreino3]\n",
    "\n"
   ]
  },
  {
   "cell_type": "code",
   "execution_count": 7,
   "metadata": {},
   "outputs": [],
   "source": [
    "#Classe 1 teste\n",
    "a1_rows = set(map(tuple, dados1))\n",
    "a2_rows = set(map(tuple, dadosTreino1))\n",
    "dadosTeste1 = np.array(list(a1_rows.difference(a2_rows)))\n",
    "yTeste1 = np.ones((300,1))\n",
    "\n",
    "#Classe 2 teste\n",
    "a1_rows = set(map(tuple, dados2))\n",
    "a2_rows = set(map(tuple, dadosTreino2))\n",
    "dadosTeste2 = np.array(list(a1_rows.difference(a2_rows)))\n",
    "yTeste2 = np.full((300,1), 2)\n",
    "\n",
    "#Classe 3 teste\n",
    "a1_rows = set(map(tuple, dados3))\n",
    "a2_rows = set(map(tuple, dadosTreino3))\n",
    "dadosTeste3 = np.array(list(a1_rows.difference(a2_rows)))\n",
    "yTeste3 = np.full( (300,1), 3)\n"
   ]
  },
  {
   "cell_type": "code",
   "execution_count": 8,
   "metadata": {},
   "outputs": [
    {
     "data": {
      "text/plain": [
       "600"
      ]
     },
     "execution_count": 8,
     "metadata": {},
     "output_type": "execute_result"
    }
   ],
   "source": [
    "dadosTreino = np.concatenate((dadosTreino1, dadosTreino2, dadosTreino3), axis=0)\n",
    "len(dadosTreino)"
   ]
  },
  {
   "cell_type": "code",
   "execution_count": 9,
   "metadata": {},
   "outputs": [
    {
     "data": {
      "text/plain": [
       "900"
      ]
     },
     "execution_count": 9,
     "metadata": {},
     "output_type": "execute_result"
    }
   ],
   "source": [
    "dadosTeste = np.concatenate((dadosTeste1, dadosTeste2, dadosTeste3), axis=0)\n",
    "len(dadosTeste)"
   ]
  },
  {
   "cell_type": "code",
   "execution_count": 10,
   "metadata": {},
   "outputs": [
    {
     "data": {
      "text/plain": [
       "600"
      ]
     },
     "execution_count": 10,
     "metadata": {},
     "output_type": "execute_result"
    }
   ],
   "source": [
    "yTreino = np.concatenate((yTreino1, yTreino2, yTreino3), axis=0 )\n",
    "len(yTreino)"
   ]
  },
  {
   "cell_type": "code",
   "execution_count": 11,
   "metadata": {},
   "outputs": [
    {
     "data": {
      "text/plain": [
       "900"
      ]
     },
     "execution_count": 11,
     "metadata": {},
     "output_type": "execute_result"
    }
   ],
   "source": [
    "yTeste = np.concatenate( (yTeste1, yTeste2, yTeste3), axis=0)\n",
    "len(yTeste)"
   ]
  },
  {
   "cell_type": "code",
   "execution_count": 12,
   "metadata": {},
   "outputs": [],
   "source": [
    "#calcula mi\n",
    "miGeral = dadosTreino.mean(axis=0)\n",
    "mi1 = dadosTreino1.mean(axis=0)\n",
    "mi2 = dadosTreino2.mean(axis=0)\n",
    "mi3 = dadosTreino3.mean(axis=0)"
   ]
  },
  {
   "cell_type": "code",
   "execution_count": 19,
   "metadata": {},
   "outputs": [],
   "source": [
    "#somatorio\n",
    "n1 = dadosTreino1.shape[0]\n",
    "n2 = dadosTreino2.shape[0]\n",
    "n3 = dadosTreino3.shape[0]\n",
    "nGeral = dadosTreino.shape[0]\n",
    "\n",
    "sum1 = []\n",
    "for linha in range(n1):\n",
    "    aux1 = np.reshape( (dadosTreino1[linha] - mi1), (2,1))\n",
    "    aux1T = np.transpose(np.reshape( (dadosTreino1[linha] - mi1), (2,1)))\n",
    "    sum1.append(aux1.dot(aux1T))\n",
    "    \n",
    "sum1 = np.sum(np.array(sum1), axis=0)\n",
    "\n",
    "ec1 = sum1 / (n1 - 1)\n",
    "\n",
    "sum2 = []\n",
    "for linha in range(n2):\n",
    "    aux2 = np.reshape( (dadosTreino2[linha] - mi2), (2,1))\n",
    "    aux2T = np.transpose(np.reshape( (dadosTreino2[linha] - mi2), (2,1)))\n",
    "    sum2.append(aux2.dot(aux2T))\n",
    "    \n",
    "sum2 = np.sum(np.array(sum2), axis=0)\n",
    "\n",
    "ec2 = sum2 / (n2 - 1)\n",
    "\n",
    "sum3 = []\n",
    "for linha in range(n3):\n",
    "    aux3 = np.reshape( (dadosTreino3[linha] - mi3), (2,1))\n",
    "    aux3T = np.transpose(np.reshape( (dadosTreino3[linha] - mi3), (2,1)))\n",
    "    sum3.append(aux3.dot(aux3T))\n",
    "    \n",
    "sum3 = np.sum(np.array(sum3), axis=0)\n",
    "\n",
    "ec3 = sum3 / (n3 - 1)\n",
    "\n",
    "sumGeral = []\n",
    "for linha in range(nGeral):\n",
    "    auxGeral = np.reshape( (dadosTreino[linha] - miGeral), (2,1))\n",
    "    auxGeralT = np.transpose(np.reshape( (dadosTreino[linha] - miGeral), (2,1)))\n",
    "    sumGeral.append(auxGeral.dot(auxGeralT))\n",
    "    \n",
    "sumGeral = np.sum(np.array(sumGeral), axis=0)\n",
    "\n",
    "ecGeral = sumGeral / (nGeral - 1)\n"
   ]
  },
  {
   "cell_type": "code",
   "execution_count": 20,
   "metadata": {},
   "outputs": [
    {
     "name": "stdout",
     "output_type": "stream",
     "text": [
      "--------\n",
      "Mi Geral:\n",
      "[ 0.51609938  0.7069845 ]\n",
      "Mi 1:\n",
      "[ 0.72694752  0.51474913]\n",
      "Mi 2:\n",
      "[ 0.61627818  0.60059766]\n",
      "Mi 3:\n",
      "[ 0.20507245  1.00560671]\n",
      "--------\n",
      "Sigma C1:\n",
      "[[ 0.03568194  0.01793726]\n",
      " [ 0.01793726  0.038493  ]]\n",
      "Sigma C2:\n",
      "[[ 0.00733064 -0.00026703]\n",
      " [-0.00026703  0.00632648]]\n",
      "Sigma C3:\n",
      "[[ 0.00988652 -0.00080933]\n",
      " [-0.00080933  0.0103645 ]]\n"
     ]
    }
   ],
   "source": [
    "print(\"--------\")\n",
    "print(\"Mi Geral:\")\n",
    "print(miGeral)\n",
    "print(\"Mi 1:\")\n",
    "print(mi1)\n",
    "print(\"Mi 2:\")\n",
    "print(mi2)\n",
    "print(\"Mi 3:\")\n",
    "print(mi3)\n",
    "print(\"--------\")\n",
    "print(\"Sigma C1:\")\n",
    "print(ec1)\n",
    "print(\"Sigma C2:\")\n",
    "print(ec2)\n",
    "print(\"Sigma C3:\")\n",
    "print(ec3)"
   ]
  },
  {
   "cell_type": "code",
   "execution_count": 26,
   "metadata": {},
   "outputs": [],
   "source": [
    "#Probabilidade de x para a classe C referente ao mi e ec(sigma) => P(x|c)\n",
    "def prob(mi, ec, x):\n",
    "    \n",
    "    # (x - miC)T\n",
    "    matrixT = np.transpose(np.reshape( (x - mi), (2,1)))\n",
    "    # (x -miC)T * SigmaC\n",
    "    aux = matrixT.dot(np.linalg.inv(ec))\n",
    "    # (x -miC)T * SigmaC * (x- miC)\n",
    "    final = aux.dot(np.reshape((x - mi), (2,1)))\n",
    "    # exp( -1/2 *  (x -miC)T * SigmaC * (x- miC) )\n",
    "    result = np.exp( (-1/2) * final)\n",
    "    #1 / (math.sqrt(2*math.pi) * stdev)\n",
    "    #print(result)\n",
    "    return result"
   ]
  },
  {
   "cell_type": "code",
   "execution_count": 27,
   "metadata": {},
   "outputs": [],
   "source": [
    "#Funcao que define qual das 3 probabilidades foi a maior\n",
    "def maxY(y1, y2, y3):\n",
    "    if y1 >= y2 and y1 >= y3:\n",
    "        return 1\n",
    "    elif y2 >= y3 :\n",
    "        return 2\n",
    "    else:\n",
    "        return 3"
   ]
  },
  {
   "cell_type": "code",
   "execution_count": 28,
   "metadata": {},
   "outputs": [],
   "source": [
    "yResults = []\n",
    "for dadoLinha in dadosTeste :\n",
    "    y1 = prob(mi1, ec1, dadoLinha)\n",
    "    y2 = prob(mi2, ec2, dadoLinha)\n",
    "    y3 = prob(mi3, ec3, dadoLinha)\n",
    "    yResults.append(maxY(y1,y2,y3))\n",
    "    "
   ]
  },
  {
   "cell_type": "code",
   "execution_count": 29,
   "metadata": {},
   "outputs": [],
   "source": [
    "from sklearn.metrics import confusion_matrix"
   ]
  },
  {
   "cell_type": "code",
   "execution_count": 35,
   "metadata": {},
   "outputs": [],
   "source": [
    "matrix = confusion_matrix(yTeste, yResults)"
   ]
  },
  {
   "cell_type": "code",
   "execution_count": 33,
   "metadata": {},
   "outputs": [],
   "source": [
    "import matplotlib.pyplot as plt"
   ]
  },
  {
   "cell_type": "code",
   "execution_count": 34,
   "metadata": {},
   "outputs": [],
   "source": [
    "def plotConfusionMatrix(conf_arr):\n",
    "    norm_conf = []\n",
    "    for i in conf_arr:\n",
    "        a = 0\n",
    "        tmp_arr = []\n",
    "        a = sum(i, 0)\n",
    "        for j in i:\n",
    "            tmp_arr.append(float(j)/float(a))\n",
    "        norm_conf.append(tmp_arr)\n",
    "\n",
    "    fig = plt.figure()\n",
    "    plt.clf()\n",
    "    ax = fig.add_subplot(111)\n",
    "    ax.set_aspect(1)\n",
    "    res = ax.imshow(np.array(norm_conf), cmap=plt.cm.jet, \n",
    "                    interpolation='nearest')\n",
    "\n",
    "    width, height = conf_arr.shape\n",
    "\n",
    "    for x in range(width):\n",
    "        for y in range(height):\n",
    "            ax.annotate(str(conf_arr[x][y]), xy=(y, x), \n",
    "                        horizontalalignment='center',\n",
    "                        verticalalignment='center')\n",
    "\n",
    "    cb = fig.colorbar(res)\n",
    "    alphabet = 'ABCDEFGHIJKLMNOPQRSTUVWXYZ'\n",
    "    plt.xticks(range(width), alphabet[:width])\n",
    "    plt.yticks(range(height), alphabet[:height])\n",
    "    plt.savefig('confusion_matrix.png', format='png')"
   ]
  },
  {
   "cell_type": "code",
   "execution_count": 36,
   "metadata": {},
   "outputs": [
    {
     "ename": "NameError",
     "evalue": "name 'xrange' is not defined",
     "output_type": "error",
     "traceback": [
      "\u001b[1;31m---------------------------------------------------------------------------\u001b[0m",
      "\u001b[1;31mNameError\u001b[0m                                 Traceback (most recent call last)",
      "\u001b[1;32m<ipython-input-36-d958783fbc30>\u001b[0m in \u001b[0;36m<module>\u001b[1;34m()\u001b[0m\n\u001b[1;32m----> 1\u001b[1;33m \u001b[0mplotConfusionMatrix\u001b[0m\u001b[1;33m(\u001b[0m\u001b[0mmatrix\u001b[0m\u001b[1;33m)\u001b[0m\u001b[1;33m\u001b[0m\u001b[0m\n\u001b[0m",
      "\u001b[1;32m<ipython-input-34-686c6b76b3f7>\u001b[0m in \u001b[0;36mplotConfusionMatrix\u001b[1;34m(conf_arr)\u001b[0m\n\u001b[0;32m     18\u001b[0m     \u001b[0mwidth\u001b[0m\u001b[1;33m,\u001b[0m \u001b[0mheight\u001b[0m \u001b[1;33m=\u001b[0m \u001b[0mconf_arr\u001b[0m\u001b[1;33m.\u001b[0m\u001b[0mshape\u001b[0m\u001b[1;33m\u001b[0m\u001b[0m\n\u001b[0;32m     19\u001b[0m \u001b[1;33m\u001b[0m\u001b[0m\n\u001b[1;32m---> 20\u001b[1;33m     \u001b[1;32mfor\u001b[0m \u001b[0mx\u001b[0m \u001b[1;32min\u001b[0m \u001b[0mxrange\u001b[0m\u001b[1;33m(\u001b[0m\u001b[0mwidth\u001b[0m\u001b[1;33m)\u001b[0m\u001b[1;33m:\u001b[0m\u001b[1;33m\u001b[0m\u001b[0m\n\u001b[0m\u001b[0;32m     21\u001b[0m         \u001b[1;32mfor\u001b[0m \u001b[0my\u001b[0m \u001b[1;32min\u001b[0m \u001b[0mxrange\u001b[0m\u001b[1;33m(\u001b[0m\u001b[0mheight\u001b[0m\u001b[1;33m)\u001b[0m\u001b[1;33m:\u001b[0m\u001b[1;33m\u001b[0m\u001b[0m\n\u001b[0;32m     22\u001b[0m             ax.annotate(str(conf_arr[x][y]), xy=(y, x), \n",
      "\u001b[1;31mNameError\u001b[0m: name 'xrange' is not defined"
     ]
    }
   ],
   "source": [
    "plotConfusionMatrix(matrix)"
   ]
  },
  {
   "cell_type": "code",
   "execution_count": null,
   "metadata": {},
   "outputs": [],
   "source": []
  }
 ],
 "metadata": {
  "kernelspec": {
   "display_name": "Python 3",
   "language": "python",
   "name": "python3"
  },
  "language_info": {
   "codemirror_mode": {
    "name": "ipython",
    "version": 3
   },
   "file_extension": ".py",
   "mimetype": "text/x-python",
   "name": "python",
   "nbconvert_exporter": "python",
   "pygments_lexer": "ipython3",
   "version": "3.6.2"
  }
 },
 "nbformat": 4,
 "nbformat_minor": 2
}
