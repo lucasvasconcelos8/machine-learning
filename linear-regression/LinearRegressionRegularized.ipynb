{
 "cells": [
  {
   "cell_type": "markdown",
   "metadata": {},
   "source": [
    "# Multi Variable Linear Regression *Regularized* Example"
   ]
  },
  {
   "cell_type": "code",
   "execution_count": 1,
   "metadata": {},
   "outputs": [],
   "source": [
    "import pandas as pd\n",
    "import numpy as np\n",
    "import matplotlib.pyplot as plt"
   ]
  },
  {
   "cell_type": "markdown",
   "metadata": {},
   "source": [
    "## 1. Prepare the data\n",
    "\n",
    " Create Train and Test dataframes,\n",
    " \n",
    " And add a columns with 1's to the free coefficient"
   ]
  },
  {
   "cell_type": "code",
   "execution_count": 2,
   "metadata": {},
   "outputs": [],
   "source": [
    "df = pd.read_csv(\"ex1data3.txt\", header=None, delim_whitespace=True)\n",
    "#split the data\n",
    "dfTrain = df[ :30]\n",
    "dfTest = df[30 : ]\n",
    "X = dfTrain.values[ : , : -1]\n",
    "n = np.ones(len(X))\n",
    "X = np.c_[n, X]\n",
    "Y = dfTrain.values[ : , -1]\n",
    "\n",
    "XTest = dfTest.values[ : , : -1]\n",
    "n = np.ones(len(XTest))\n",
    "XTest = np.c_[n, XTest]\n",
    "YTest = dfTest.values[ : , -1]\n"
   ]
  },
  {
   "cell_type": "markdown",
   "metadata": {},
   "source": [
    "## 2. Methods to prediction and find coefficients with OLS (Ordinary Least Squares)"
   ]
  },
  {
   "cell_type": "code",
   "execution_count": 3,
   "metadata": {},
   "outputs": [],
   "source": [
    "def predict(row, coefs):\n",
    "    ypred = coefs[0]\n",
    "    for i in range(len(row)-1):\n",
    "        ypred += coefs[i + 1] * row[i]\n",
    "    return ypred"
   ]
  },
  {
   "cell_type": "code",
   "execution_count": 4,
   "metadata": {},
   "outputs": [],
   "source": [
    "def coefs_OLS(X,Y, lambdas):\n",
    "    I = np.identity(6)\n",
    "    I[0,0] = 0\n",
    "    inverse = np.linalg.inv( X.T.dot(X) + (lambdas * I ))\n",
    "    coef = inverse.dot(X.T).dot(Y)\n",
    "                            \n",
    "    return coef"
   ]
  },
  {
   "cell_type": "code",
   "execution_count": 5,
   "metadata": {},
   "outputs": [
    {
     "name": "stdout",
     "output_type": "stream",
     "text": [
      "[ 0.33979846  1.34098496  0.17546788  0.05499766  0.02421955 -0.12377735]\n"
     ]
    }
   ],
   "source": [
    "lambdas = np.array([0,1,2,3,4,5])\n",
    "coef = coefs_OLS(X, Y , lambdas)\n",
    "print(coef)"
   ]
  },
  {
   "cell_type": "markdown",
   "metadata": {},
   "source": [
    "## 3. Calculate Linear Regression with Regularization"
   ]
  },
  {
   "cell_type": "markdown",
   "metadata": {},
   "source": [
    "### 3.1 Training Dataset"
   ]
  },
  {
   "cell_type": "code",
   "execution_count": 6,
   "metadata": {},
   "outputs": [
    {
     "data": {
      "image/png": "[encoded data removed]",
      "text/plain": [
       "<matplotlib.figure.Figure at 0x1fa79d5b278>"
      ]
     },
     "metadata": {},
     "output_type": "display_data"
    }
   ],
   "source": [
    "lambdas = np.array([0,1,2,3,4,5,6,7,8,9,10,11,12,13,14,15])\n",
    "list_lambd = []\n",
    "list_eqm = []\n",
    "for lambd in lambdas:\n",
    "    coefs = coefs_OLS(X,Y, lambd)\n",
    "    Ypred = X.dot(coefs)\n",
    "    erro = Y - Ypred\n",
    "    erroQuad = erro**2\n",
    "    eqm = np.mean(erroQuad)\n",
    "    list_lambd.append(lambd)\n",
    "    list_eqm.append(eqm)\n",
    "    \n",
    "plt.plot(list_lambd, list_eqm)\n",
    "plt.xlabel(\"Lambda\")\n",
    "plt.ylabel(\"EQM\")\n",
    "plt.show()"
   ]
  },
  {
   "cell_type": "markdown",
   "metadata": {},
   "source": [
    "### 3.2 Test Dataset"
   ]
  },
  {
   "cell_type": "code",
   "execution_count": 7,
   "metadata": {},
   "outputs": [
    {
     "data": {
      "image/png": "[encoded data removed]",
      "text/plain": [
       "<matplotlib.figure.Figure at 0x1fa7a0eb6a0>"
      ]
     },
     "metadata": {},
     "output_type": "display_data"
    }
   ],
   "source": [
    "lambdas = np.array([0,1,2,3,4,5,6,7,8,9,10,11,12,13,14,15])\n",
    "list_lambd = []\n",
    "list_eqm = []\n",
    "for lambd in lambdas:\n",
    "    coefs = coefs_OLS(X,Y, lambd)\n",
    "    Yhat = XTest.dot(coefs)\n",
    "    erro = YTest - Yhat\n",
    "    erroQuad = erro**2\n",
    "    eqm = np.mean(erroQuad)\n",
    "    list_lambd.append(lambd)\n",
    "    list_eqm.append(eqm)\n",
    "    \n",
    "plt.plot(list_lambd, list_eqm)\n",
    "plt.xlabel(\"Lambda\")\n",
    "plt.ylabel(\"EQM\")\n",
    "plt.show()"
   ]
  },
  {
   "cell_type": "code",
   "execution_count": null,
   "metadata": {},
   "outputs": [],
   "source": []
  }
 ],
 "metadata": {
  "kernelspec": {
   "display_name": "Python 3",
   "language": "python",
   "name": "python3"
  },
  "language_info": {
   "codemirror_mode": {
    "name": "ipython",
    "version": 3
   },
   "file_extension": ".py",
   "mimetype": "text/x-python",
   "name": "python",
   "nbconvert_exporter": "python",
   "pygments_lexer": "ipython3",
   "version": "3.6.2"
  }
 },
 "nbformat": 4,
 "nbformat_minor": 2
}
