{
 "cells": [
  {
   "cell_type": "markdown",
   "metadata": {},
   "source": [
    "# Multi Variable Linear Regression Example with Stochastic Gradient Descent"
   ]
  },
  {
   "cell_type": "code",
   "execution_count": 7,
   "metadata": {},
   "outputs": [],
   "source": [
    "import pandas as pd\n",
    "import numpy as np\n",
    "import matplotlib.pyplot as plt\n",
    "from sklearn.model_selection import train_test_split"
   ]
  },
  {
   "cell_type": "code",
   "execution_count": 8,
   "metadata": {},
   "outputs": [],
   "source": [
    "#read data\n",
    "df = pd.read_csv(\"ex1data2.txt\", header=None, delim_whitespace=True)"
   ]
  },
  {
   "cell_type": "markdown",
   "metadata": {},
   "source": [
    "## 2. Methods to execute prediction and estimate coefficents\n",
    "\n",
    " Multi Variable Linear Regression formula:\n",
    " \n",
    "    𝑦𝑖= 𝒘𝑇𝒙𝑖 \n",
    "\n",
    " Find the coefficients with Stochastic Gradient Descent(SGD):\n",
    "    \n",
    "    𝑤0=𝑤0+𝛼𝑒𝑖\n",
    "    𝑤1=𝑤1+𝛼𝑒𝑖𝑥𝑖\n",
    "    "
   ]
  },
  {
   "cell_type": "code",
   "execution_count": 9,
   "metadata": {},
   "outputs": [],
   "source": [
    "def predict(row, coefs):\n",
    "    ypred = coefs[0]\n",
    "    for i in range(len(row)-1):\n",
    "        ypred += coefs[i + 1] * row[i]\n",
    "    return ypred"
   ]
  },
  {
   "cell_type": "code",
   "execution_count": 10,
   "metadata": {},
   "outputs": [],
   "source": [
    "# Estimate linear regression coefficients using stochastic gradient descent\n",
    "def coefficients_sgd(train, alpha, epochs):\n",
    "    list_MSE = []\n",
    "    coefs = [0.0 for i in range(len(train[:-1]))]\n",
    "    for epoch in range(epochs):\n",
    "        sum_error = 0\n",
    "        np.random.shuffle(train)\n",
    "        for row in train:\n",
    "            ypred = predict(row, coefs)\n",
    "            error = row[-1] - ypred\n",
    "            sum_error += error**2\n",
    "            coefs[0] = coefs[0] + alpha * error\n",
    "            for i in range(len(row)-1):\n",
    "                coefs[i + 1] = coefs[i + 1] + alpha * error * row[i]\n",
    "        \n",
    "        #print('>epoch=%d, alpha=%.3f, error=%.3f' % (epochs, alpha, sum_error/len(train[:-1])))\n",
    "        \n",
    "        list_MSE.append(sum_error/len(train[:-1]))\n",
    "    \n",
    "    return list_MSE, coefs"
   ]
  },
  {
   "cell_type": "code",
   "execution_count": 11,
   "metadata": {},
   "outputs": [
    {
     "name": "stdout",
     "output_type": "stream",
     "text": [
      "[0.81598874812139188, 1.4145501507198841, -0.005221199707417544, 0.0, 0.0, 0.0, 0.0, 0.0, 0.0, 0.0, 0.0, 0.0, 0.0, 0.0, 0.0, 0.0, 0.0, 0.0, 0.0, 0.0, 0.0, 0.0, 0.0, 0.0, 0.0, 0.0, 0.0, 0.0, 0.0, 0.0, 0.0, 0.0, 0.0, 0.0, 0.0, 0.0, 0.0, 0.0, 0.0, 0.0, 0.0, 0.0, 0.0, 0.0, 0.0, 0.0]\n"
     ]
    }
   ],
   "source": [
    "list_MSE, coefs = coefficients_sgd(df.values, 0.01, 100)\n",
    "print(coefs)"
   ]
  },
  {
   "cell_type": "code",
   "execution_count": 12,
   "metadata": {},
   "outputs": [
    {
     "data": {
      "image/png": "[encoded data removed]",
      "text/plain": [
       "<matplotlib.figure.Figure at 0x2b6eae31f60>"
      ]
     },
     "metadata": {},
     "output_type": "display_data"
    }
   ],
   "source": [
    "plt.plot(np.arange(len(list_MSE)), list_MSE)\n",
    "plt.xlabel(\"Epochs\")\n",
    "plt.ylabel(\"Mean Squared Error\")\n",
    "plt.show()"
   ]
  },
  {
   "cell_type": "code",
   "execution_count": null,
   "metadata": {},
   "outputs": [],
   "source": []
  }
 ],
 "metadata": {
  "kernelspec": {
   "display_name": "Python 3",
   "language": "python",
   "name": "python3"
  },
  "language_info": {
   "codemirror_mode": {
    "name": "ipython",
    "version": 3
   },
   "file_extension": ".py",
   "mimetype": "text/x-python",
   "name": "python",
   "nbconvert_exporter": "python",
   "pygments_lexer": "ipython3",
   "version": "3.6.2"
  }
 },
 "nbformat": 4,
 "nbformat_minor": 2
}
