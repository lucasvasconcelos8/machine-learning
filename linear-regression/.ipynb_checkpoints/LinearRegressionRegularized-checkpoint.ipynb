{
 "cells": [
  {
   "cell_type": "code",
   "execution_count": 1,
   "metadata": {},
   "outputs": [],
   "source": [
    "import pandas as pd\n",
    "import numpy as np\n",
    "import matplotlib.pyplot as plt\n",
    "from sklearn.model_selection import train_test_split"
   ]
  },
  {
   "cell_type": "code",
   "execution_count": 46,
   "metadata": {},
   "outputs": [],
   "source": [
    "df = pd.read_csv(\"ex1data3.txt\", header=None, delim_whitespace=True)\n",
    "#split the data\n",
    "dfTrain = df.iloc[:, : -1]\n",
    "\n",
    "dfTest = df.iloc[:, -1]\n",
    "\n",
    "X_train, X_test, y_train, y_test = train_test_split(dfTrain, dfTest, test_size=0.36, shuffle = False)\n"
   ]
  },
  {
   "cell_type": "code",
   "execution_count": 47,
   "metadata": {},
   "outputs": [],
   "source": [
    "def predict(row, coefficients):\n",
    "    ypred = coefficients[0]\n",
    "    for i in range(len(row)-1):\n",
    "        ypred += coefficients[i + 1] * row[i]\n",
    "    return yhat"
   ]
  },
  {
   "cell_type": "code",
   "execution_count": 1,
   "metadata": {},
   "outputs": [],
   "source": [
    "# Estimate linear regression coefficients using stochastic gradient descent\n",
    "def coefficients_OLS(train, alpha, n_epoch):\n",
    "    list_mse = []\n",
    "    coef = [0.0 for i in range(len(train[:-1]))]\n",
    "    \n",
    "    for row in train:\n",
    "        ypred = predict(row, coef)\n",
    "        error = row[-1] - ypred\n",
    "        coef[0] = coef[0] + alpha * error\n",
    "        for i in range(len(row)-1):\n",
    "            coef[i + 1] = coef[i + 1] + alpha * error * row[i]\n",
    "    return coef"
   ]
  },
  {
   "cell_type": "code",
   "execution_count": null,
   "metadata": {},
   "outputs": [],
   "source": []
  }
 ],
 "metadata": {
  "kernelspec": {
   "display_name": "Python 3",
   "language": "python",
   "name": "python3"
  },
  "language_info": {
   "codemirror_mode": {
    "name": "ipython",
    "version": 3
   },
   "file_extension": ".py",
   "mimetype": "text/x-python",
   "name": "python",
   "nbconvert_exporter": "python",
   "pygments_lexer": "ipython3",
   "version": "3.6.2"
  }
 },
 "nbformat": 4,
 "nbformat_minor": 2
}
