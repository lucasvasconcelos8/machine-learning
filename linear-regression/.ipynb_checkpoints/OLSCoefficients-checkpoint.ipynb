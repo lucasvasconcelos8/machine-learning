{
 "cells": [
  {
   "cell_type": "markdown",
   "metadata": {},
   "source": [
    "# Example to find coefficients with Ordinary Least Squares method"
   ]
  },
  {
   "cell_type": "code",
   "execution_count": 7,
   "metadata": {},
   "outputs": [],
   "source": [
    "import pandas as pd\n",
    "import numpy as np\n",
    "import matplotlib.pyplot as plt"
   ]
  },
  {
   "cell_type": "markdown",
   "metadata": {},
   "source": [
    "## 1. Prepare the data\n",
    "\n",
    " Create a column with 1's to represent the free coefficient "
   ]
  },
  {
   "cell_type": "code",
   "execution_count": 8,
   "metadata": {},
   "outputs": [],
   "source": [
    "df = pd.read_csv(\"ex1data2.txt\", header=None, delim_whitespace=True)\n",
    "X = df.values[ : , : -1]\n",
    "Y = df.values[ : , -1]\n",
    "\n",
    "n = np.ones(len(X))\n",
    "X = np.c_[n, X]"
   ]
  },
  {
   "cell_type": "markdown",
   "metadata": {},
   "source": [
    "## 2. Method Ordinary Least Squares\n",
    "\n",
    " The OLS formula is:\n",
    " \n",
    "    𝒘=(𝑿𝑇𝑿)−𝟏𝑿𝑇𝒀\n"
   ]
  },
  {
   "cell_type": "code",
   "execution_count": 9,
   "metadata": {},
   "outputs": [],
   "source": [
    "def coefficientes_OLS(X,Y):\n",
    "    inverse= np.linalg.inv(X.T.dot(X))\n",
    "    coef = inverse.dot(X.T).dot(Y)\n",
    "    return coef"
   ]
  },
  {
   "cell_type": "code",
   "execution_count": 10,
   "metadata": {},
   "outputs": [
    {
     "name": "stdout",
     "output_type": "stream",
     "text": [
      "[ 0.8959791   1.39210674 -0.08738019]\n"
     ]
    }
   ],
   "source": [
    "coef = coefficientes_OLS(X, Y)\n",
    "print(coef)"
   ]
  },
  {
   "cell_type": "code",
   "execution_count": 11,
   "metadata": {},
   "outputs": [
    {
     "data": {
      "text/plain": [
       "array([ 3.5628311 ,  2.86120931,  3.9748947 ,  2.69244186,  4.72277855,\n",
       "        3.30979021,  2.76933026,  2.62037484,  2.55494582,  2.71364599,\n",
       "        3.24714541,  3.418052  ,  3.26492026,  6.69293212,  2.39902987,\n",
       "        3.74830383,  2.55879961,  2.35448245,  4.17846482,  4.76593386,\n",
       "        3.09369113,  3.34951624,  2.86677773,  3.27777176,  6.04913374,\n",
       "        2.16515594,  2.66353015,  4.15030015,  3.69647335,  4.304824  ,\n",
       "        3.28130301,  2.20070564,  3.38635608,  5.00087737,  3.06756364,\n",
       "        2.63429591,  2.35865877,  3.5144299 ,  6.41418824,  3.5561931 ,\n",
       "        3.03768433,  3.74937341,  4.11999633,  2.30436661,  1.90729366,\n",
       "        3.12464001,  2.30854293])"
      ]
     },
     "execution_count": 11,
     "metadata": {},
     "output_type": "execute_result"
    }
   ],
   "source": [
    "Yhat = X.dot(coef)\n",
    "Yhat"
   ]
  },
  {
   "cell_type": "code",
   "execution_count": null,
   "metadata": {},
   "outputs": [],
   "source": []
  }
 ],
 "metadata": {
  "kernelspec": {
   "display_name": "Python 3",
   "language": "python",
   "name": "python3"
  },
  "language_info": {
   "codemirror_mode": {
    "name": "ipython",
    "version": 3
   },
   "file_extension": ".py",
   "mimetype": "text/x-python",
   "name": "python",
   "nbconvert_exporter": "python",
   "pygments_lexer": "ipython3",
   "version": "3.6.2"
  }
 },
 "nbformat": 4,
 "nbformat_minor": 2
}
