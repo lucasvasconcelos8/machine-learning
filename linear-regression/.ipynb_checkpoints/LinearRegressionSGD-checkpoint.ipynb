{
 "cells": [
  {
   "cell_type": "markdown",
   "metadata": {},
   "source": [
    "# Linear Regression Example with Stochastic Gradient Descent "
   ]
  },
  {
   "cell_type": "code",
   "execution_count": 26,
   "metadata": {},
   "outputs": [],
   "source": [
    "import pandas as pd\n",
    "import numpy as np\n",
    "import matplotlib.pyplot as plt\n",
    "from sklearn.model_selection import train_test_split"
   ]
  },
  {
   "cell_type": "markdown",
   "metadata": {},
   "source": [
    "## 1. Sample Data"
   ]
  },
  {
   "cell_type": "code",
   "execution_count": 27,
   "metadata": {},
   "outputs": [
    {
     "data": {
      "image/png": "[encoded data removed]",
      "text/plain": [
       "<matplotlib.figure.Figure at 0x21e02640588>"
      ]
     },
     "metadata": {},
     "output_type": "display_data"
    }
   ],
   "source": [
    "#read data\n",
    "df = pd.read_csv(\"ex1data1.txt\", header=None)\n",
    "\n",
    "# Plot outputs\n",
    "plt.scatter(df[0], df[1],  color='black')\n",
    "\n",
    "plt.show()"
   ]
  },
  {
   "cell_type": "markdown",
   "metadata": {},
   "source": [
    "## 2. Methods to execute prediction and estimate coefficents\n",
    "\n",
    " Linear Regression is simple:\n",
    " \n",
    "    𝑦𝑖 = 𝑤1𝑥𝑖 + 𝑤0 \n",
    "\n",
    " Find the coefficients with Stochastic Gradient Descent(SGD):\n",
    "    \n",
    "    \n",
    "    𝑤0=𝑤0+𝛼𝑒𝑖\n",
    "    𝑤1=𝑤1+𝛼𝑒𝑖𝑥𝑖"
   ]
  },
  {
   "cell_type": "code",
   "execution_count": 28,
   "metadata": {},
   "outputs": [],
   "source": [
    "def predict(x, coefs):\n",
    "    ypred = coefs[0]\n",
    "    ypred += coefs[1] * x\n",
    "    return ypred"
   ]
  },
  {
   "cell_type": "code",
   "execution_count": 29,
   "metadata": {},
   "outputs": [],
   "source": [
    "# Estimate linear regression coefficients using stochastic gradient descent\n",
    "def estimate_coefs_SGD(train, alpha, epochs):\n",
    "\n",
    "    list_MSE = []\n",
    "    coefs = [0,0]\n",
    "    for epochs in range(epochs):\n",
    "        sum_error = 0\n",
    "        np.random.shuffle(train)\n",
    "        for x, y in train:\n",
    "            ypred = predict(x, coefs)\n",
    "            error = y - ypred\n",
    "            sum_error += error**2\n",
    "            coefs[0] = coefs[0] + alpha * error\n",
    "            coefs[1] = coefs[1] + alpha * error * x\n",
    "        \n",
    "        #print('>epochs=%d, alpha=%.3f, error=%.3f' % (epochs, alpha, sum_error/len(train[ : ,0])))\n",
    "        \n",
    "        list_MSE.append(sum_error/len(train[: , 0]))\n",
    "    \n",
    "    return list_MSE, coefs"
   ]
  },
  {
   "cell_type": "code",
   "execution_count": 30,
   "metadata": {},
   "outputs": [
    {
     "name": "stdout",
     "output_type": "stream",
     "text": [
      "[-3.87231002258138, 1.2549549084433809]\n"
     ]
    }
   ],
   "source": [
    "list_MSE, coefs = estimate_coefs_SGD(df.values, 0.001, 1000)\n",
    "print(coefs)"
   ]
  },
  {
   "cell_type": "markdown",
   "metadata": {},
   "source": [
    "## 3. Visualize the Learning during Epochs"
   ]
  },
  {
   "cell_type": "code",
   "execution_count": 31,
   "metadata": {},
   "outputs": [
    {
     "data": {
      "image/png": "[encoded data removed]",
      "text/plain": [
       "<matplotlib.figure.Figure at 0x21e026655f8>"
      ]
     },
     "metadata": {},
     "output_type": "display_data"
    }
   ],
   "source": [
    "plt.plot(np.arange(len(list_MSE)), list_MSE)\n",
    "plt.xlabel(\"Epochs\")\n",
    "plt.ylabel(\"Mean Squared Error\")\n",
    "plt.show()"
   ]
  },
  {
   "cell_type": "code",
   "execution_count": null,
   "metadata": {},
   "outputs": [],
   "source": []
  }
 ],
 "metadata": {
  "kernelspec": {
   "display_name": "Python 3",
   "language": "python",
   "name": "python3"
  },
  "language_info": {
   "codemirror_mode": {
    "name": "ipython",
    "version": 3
   },
   "file_extension": ".py",
   "mimetype": "text/x-python",
   "name": "python",
   "nbconvert_exporter": "python",
   "pygments_lexer": "ipython3",
   "version": "3.6.2"
  }
 },
 "nbformat": 4,
 "nbformat_minor": 2
}
