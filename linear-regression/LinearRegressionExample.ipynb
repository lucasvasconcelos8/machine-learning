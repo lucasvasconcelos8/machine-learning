{
 "cells": [
  {
   "cell_type": "markdown",
   "metadata": {},
   "source": [
    "## 1. Import libraries for linear regression example"
   ]
  },
  {
   "cell_type": "code",
   "execution_count": 5,
   "metadata": {},
   "outputs": [],
   "source": [
    "import pandas as pd\n",
    "import numpy as np\n",
    "from sklearn import linear_model\n",
    "from sklearn.metrics import mean_squared_error, r2_score\n",
    "import matplotlib.pyplot as plt\n",
    "from sklearn.model_selection import train_test_split"
   ]
  },
  {
   "cell_type": "markdown",
   "metadata": {},
   "source": [
    "## 2. Functions to execute regression"
   ]
  },
  {
   "cell_type": "code",
   "execution_count": 6,
   "metadata": {},
   "outputs": [],
   "source": [
    "def read_split_data():\n",
    "    #read data\n",
    "    df = pd.read_csv(\"ex1data1.txt\", header=None)\n",
    "\n",
    "    #split the data\n",
    "    X_train, X_test, y_train, y_test = train_test_split(df[0].values.reshape(-1,1), df[1].values.reshape(-1,1), test_size=0.33)\n",
    "    \n",
    "    return X_train, X_test, y_train, y_test\n",
    "\n",
    "def plot_data():\n",
    "    df = pd.read_csv(\"ex1data1.txt\", header=None)\n",
    "    # Plot outputs\n",
    "    plt.scatter(df[0], df[1],  color='black')\n",
    "\n",
    "    plt.show()\n",
    "\n",
    "def regr_fit(regr, X_train, X_test, y_train, y_test):\n",
    "\n",
    "    # fit model\n",
    "    regr.fit(X_train, y_train)\n",
    "    \n",
    "def regr_predict(regr, X_test):\n",
    "    \n",
    "    # predit test set\n",
    "    y_pred = regr.predict(X_test)\n",
    "    \n",
    "    return y_pred\n",
    "\n",
    "def print_result(y_test,y_pred):\n",
    "    # coef\n",
    "    print('Coefficients: \\n', regr.coef_)\n",
    "    # The mean squared error\n",
    "    print(\"Mean squared error: %.2f\"\n",
    "          % mean_squared_error(y_test, y_pred))\n",
    "    # Explained variance score: 1 is perfect prediction\n",
    "    print('Variance score: %.2f' % r2_score(y_test, y_pred))\n",
    "    \n",
    "    return mean_squared_error(y_test, y_pred)\n",
    "    \n",
    "def plot_result(X_test, y_test, y_pred):\n",
    "    # Plot outputs\n",
    "    plt.scatter(X_test, y_test,  color='black')\n",
    "    plt.plot(X_test, y_pred, color='blue', linewidth=3)\n",
    "\n",
    "    plt.show()\n",
    "    \n",
    "def plot_final(epochs, mean_squared):\n",
    "    \n",
    "    plt.plot(epochs, mean_squared,  color='black')\n",
    "    plt.show()\n",
    "    \n",
    "def print_resume(result_scores):\n",
    "    #reduce(lambda x: x+x , result_scores)\n",
    "    print('Average Variance: ', sum(result_scores) / len(result_scores))\n",
    "    print('Minor Variance: ', min(result_scores))\n",
    "    print('Major Variance: ', max(result_scores))\n",
    "    "
   ]
  },
  {
   "cell_type": "markdown",
   "metadata": {},
   "source": [
    "## 3. Execute Regression"
   ]
  },
  {
   "cell_type": "code",
   "execution_count": 30,
   "metadata": {},
   "outputs": [
    {
     "data": {
      "image/png": "[encoded data removed]",
      "text/plain": [
       "<matplotlib.figure.Figure at 0x10a1f4128>"
      ]
     },
     "metadata": {},
     "output_type": "display_data"
    }
   ],
   "source": [
    "result_scores = []\n",
    "plot_data()\n",
    "# regression from sklearn\n",
    "#regr = linear_model.SGDRegressor(alpha= 0.001, n_iter=1000)\n",
    "#X_train, X_test, y_train, y_test = read_split_data()\n",
    "#regr.fit(X_train,y_train)\n",
    "#y_pred = regr.predict(X_test)\n",
    "#print(mean_squared_error(y_test, y_pred))\n",
    "#for i in range(1000):\n",
    "    #print('-----------Execution-----------')\n",
    "    #regr.fit(X_train,y_train)\n",
    "    #y_pred = regr.predict(X_test)\n",
    "    #print(regr.coef_)\n",
    "    #print('------------------')\n",
    "    #result_scores.append(mean_squared_error(y_test, y_pred) )\n",
    "    #plot_result(X_test, y_test, y_pred)\n",
    "    \n",
    "#plot_final(range(1000), result_scores)\n",
    "    "
   ]
  },
  {
   "cell_type": "code",
   "execution_count": 32,
   "metadata": {},
   "outputs": [
    {
     "name": "stderr",
     "output_type": "stream",
     "text": [
      "/Users/lucasvasconcelos/miniconda3/envs/envML/lib/python3.6/site-packages/sklearn/utils/validation.py:547: DataConversionWarning: A column-vector y was passed when a 1d array was expected. Please change the shape of y to (n_samples, ), for example using ravel().\n",
      "  y = column_or_1d(y, warn=True)\n"
     ]
    },
    {
     "data": {
      "image/png": "[encoded data removed]",
      "text/plain": [
       "<matplotlib.figure.Figure at 0x10a0ad358>"
      ]
     },
     "metadata": {},
     "output_type": "display_data"
    }
   ],
   "source": [
    "import sys\n",
    "from io import StringIO\n",
    "old_stdout = sys.stdout\n",
    "sys.stdout = mystdout = StringIO()\n",
    "X_train, X_test, y_train, y_test = read_split_data()\n",
    "regr = linear_model.SGDRegressor(alpha=0, max_iter=1000, verbose=1)\n",
    "regr.fit(X_train,y_train)\n",
    "sys.stdout = old_stdout\n",
    "loss_history = mystdout.getvalue()\n",
    "print(loss_history)\n",
    "loss_list = []\n",
    "for line in loss_history.split('\\n'):\n",
    "    if(len(line.split(\"loss: \")) == 1):\n",
    "        continue\n",
    "    loss_list.append(float(line.split(\"loss: \")[-1]))\n",
    "plt.plot(np.arange(len(loss_list)), loss_list)\n",
    "plt.xlabel(\"Time in epochs\")\n",
    "plt.ylabel(\"Loss\")\n",
    "plt.show()"
   ]
  },
  {
   "cell_type": "code",
   "execution_count": null,
   "metadata": {},
   "outputs": [],
   "source": []
  }
 ],
 "metadata": {
  "kernelspec": {
   "display_name": "Python 3",
   "language": "python",
   "name": "python3"
  },
  "language_info": {
   "codemirror_mode": {
    "name": "ipython",
    "version": 3
   },
   "file_extension": ".py",
   "mimetype": "text/x-python",
   "name": "python",
   "nbconvert_exporter": "python",
   "pygments_lexer": "ipython3",
   "version": "3.6.2"
  }
 },
 "nbformat": 4,
 "nbformat_minor": 2
}
