{
 "cells": [
  {
   "cell_type": "code",
   "execution_count": 4,
   "metadata": {},
   "outputs": [],
   "source": [
    "import pandas as pd\n",
    "import numpy as np\n",
    "import matplotlib.pyplot as plt\n",
    "from sklearn.model_selection import train_test_split"
   ]
  },
  {
   "cell_type": "code",
   "execution_count": 13,
   "metadata": {},
   "outputs": [],
   "source": [
    "#read data\n",
    "df = pd.read_csv(\"ex1data2.txt\", header=None, delim_whitespace=True)"
   ]
  },
  {
   "cell_type": "code",
   "execution_count": 6,
   "metadata": {},
   "outputs": [],
   "source": [
    "def predict(row, coefficients):\n",
    "    yhat = coefficients[0]\n",
    "    for i in range(len(row)-1):\n",
    "        yhat += coefficients[i + 1] * row[i]\n",
    "    return yhat"
   ]
  },
  {
   "cell_type": "code",
   "execution_count": 10,
   "metadata": {},
   "outputs": [],
   "source": [
    "# Estimate linear regression coefficients using stochastic gradient descent\n",
    "def coefficients_sgd(train, alpha, n_epoch):\n",
    "    list_mse = []\n",
    "    coef = [0.0 for i in range(len(train[:-1]))]\n",
    "    for epoch in range(n_epoch):\n",
    "        sum_error = 0\n",
    "        np.random.shuffle(train)\n",
    "        for row in train:\n",
    "            yhat = predict(row, coef)\n",
    "            error = row[-1] - yhat\n",
    "            sum_error += error**2\n",
    "            coef[0] = coef[0] + alpha * error\n",
    "            for i in range(len(row)-1):\n",
    "                coef[i + 1] = coef[i + 1] + alpha * error * row[i]\n",
    "        print('>epoch=%d, alpha=%.3f, error=%.3f' % (epoch, alpha, sum_error/len(train[:-1])))\n",
    "        list_mse.append(sum_error/len(train[:-1]))\n",
    "    return list_mse, coef"
   ]
  },
  {
   "cell_type": "code",
   "execution_count": 14,
   "metadata": {},
   "outputs": [
    {
     "name": "stdout",
     "output_type": "stream",
     "text": [
      ">epoch=0, alpha=0.010, error=1.913\n",
      ">epoch=1, alpha=0.010, error=0.761\n",
      ">epoch=2, alpha=0.010, error=0.707\n",
      ">epoch=3, alpha=0.010, error=0.659\n",
      ">epoch=4, alpha=0.010, error=0.629\n",
      ">epoch=5, alpha=0.010, error=0.576\n",
      ">epoch=6, alpha=0.010, error=0.578\n",
      ">epoch=7, alpha=0.010, error=0.541\n",
      ">epoch=8, alpha=0.010, error=0.533\n",
      ">epoch=9, alpha=0.010, error=0.523\n",
      ">epoch=10, alpha=0.010, error=0.528\n",
      ">epoch=11, alpha=0.010, error=0.509\n",
      ">epoch=12, alpha=0.010, error=0.519\n",
      ">epoch=13, alpha=0.010, error=0.506\n",
      ">epoch=14, alpha=0.010, error=0.504\n",
      ">epoch=15, alpha=0.010, error=0.503\n",
      ">epoch=16, alpha=0.010, error=0.509\n",
      ">epoch=17, alpha=0.010, error=0.501\n",
      ">epoch=18, alpha=0.010, error=0.498\n",
      ">epoch=19, alpha=0.010, error=0.489\n",
      ">epoch=20, alpha=0.010, error=0.487\n",
      ">epoch=21, alpha=0.010, error=0.487\n",
      ">epoch=22, alpha=0.010, error=0.485\n",
      ">epoch=23, alpha=0.010, error=0.462\n",
      ">epoch=24, alpha=0.010, error=0.467\n",
      ">epoch=25, alpha=0.010, error=0.454\n",
      ">epoch=26, alpha=0.010, error=0.426\n",
      ">epoch=27, alpha=0.010, error=0.467\n",
      ">epoch=28, alpha=0.010, error=0.494\n",
      ">epoch=29, alpha=0.010, error=0.450\n",
      ">epoch=30, alpha=0.010, error=0.486\n",
      ">epoch=31, alpha=0.010, error=0.481\n",
      ">epoch=32, alpha=0.010, error=0.487\n",
      ">epoch=33, alpha=0.010, error=0.468\n",
      ">epoch=34, alpha=0.010, error=0.499\n",
      ">epoch=35, alpha=0.010, error=0.462\n",
      ">epoch=36, alpha=0.010, error=0.472\n",
      ">epoch=37, alpha=0.010, error=0.502\n",
      ">epoch=38, alpha=0.010, error=0.468\n",
      ">epoch=39, alpha=0.010, error=0.480\n",
      ">epoch=40, alpha=0.010, error=0.456\n",
      ">epoch=41, alpha=0.010, error=0.476\n",
      ">epoch=42, alpha=0.010, error=0.484\n",
      ">epoch=43, alpha=0.010, error=0.482\n",
      ">epoch=44, alpha=0.010, error=0.489\n",
      ">epoch=45, alpha=0.010, error=0.456\n",
      ">epoch=46, alpha=0.010, error=0.463\n",
      ">epoch=47, alpha=0.010, error=0.458\n",
      ">epoch=48, alpha=0.010, error=0.486\n",
      ">epoch=49, alpha=0.010, error=0.427\n",
      ">epoch=50, alpha=0.010, error=0.490\n",
      ">epoch=51, alpha=0.010, error=0.489\n",
      ">epoch=52, alpha=0.010, error=0.478\n",
      ">epoch=53, alpha=0.010, error=0.468\n",
      ">epoch=54, alpha=0.010, error=0.484\n",
      ">epoch=55, alpha=0.010, error=0.474\n",
      ">epoch=56, alpha=0.010, error=0.490\n",
      ">epoch=57, alpha=0.010, error=0.481\n",
      ">epoch=58, alpha=0.010, error=0.471\n",
      ">epoch=59, alpha=0.010, error=0.453\n",
      ">epoch=60, alpha=0.010, error=0.485\n",
      ">epoch=61, alpha=0.010, error=0.495\n",
      ">epoch=62, alpha=0.010, error=0.464\n",
      ">epoch=63, alpha=0.010, error=0.453\n",
      ">epoch=64, alpha=0.010, error=0.484\n",
      ">epoch=65, alpha=0.010, error=0.471\n",
      ">epoch=66, alpha=0.010, error=0.478\n",
      ">epoch=67, alpha=0.010, error=0.483\n",
      ">epoch=68, alpha=0.010, error=0.460\n",
      ">epoch=69, alpha=0.010, error=0.464\n",
      ">epoch=70, alpha=0.010, error=0.481\n",
      ">epoch=71, alpha=0.010, error=0.491\n",
      ">epoch=72, alpha=0.010, error=0.463\n",
      ">epoch=73, alpha=0.010, error=0.484\n",
      ">epoch=74, alpha=0.010, error=0.458\n",
      ">epoch=75, alpha=0.010, error=0.495\n",
      ">epoch=76, alpha=0.010, error=0.467\n",
      ">epoch=77, alpha=0.010, error=0.485\n",
      ">epoch=78, alpha=0.010, error=0.460\n",
      ">epoch=79, alpha=0.010, error=0.476\n",
      ">epoch=80, alpha=0.010, error=0.479\n",
      ">epoch=81, alpha=0.010, error=0.454\n",
      ">epoch=82, alpha=0.010, error=0.433\n",
      ">epoch=83, alpha=0.010, error=0.492\n",
      ">epoch=84, alpha=0.010, error=0.474\n",
      ">epoch=85, alpha=0.010, error=0.464\n",
      ">epoch=86, alpha=0.010, error=0.487\n",
      ">epoch=87, alpha=0.010, error=0.446\n",
      ">epoch=88, alpha=0.010, error=0.435\n",
      ">epoch=89, alpha=0.010, error=0.481\n",
      ">epoch=90, alpha=0.010, error=0.470\n",
      ">epoch=91, alpha=0.010, error=0.462\n",
      ">epoch=92, alpha=0.010, error=0.482\n",
      ">epoch=93, alpha=0.010, error=0.461\n",
      ">epoch=94, alpha=0.010, error=0.464\n",
      ">epoch=95, alpha=0.010, error=0.482\n",
      ">epoch=96, alpha=0.010, error=0.473\n",
      ">epoch=97, alpha=0.010, error=0.478\n",
      ">epoch=98, alpha=0.010, error=0.462\n",
      ">epoch=99, alpha=0.010, error=0.461\n"
     ]
    }
   ],
   "source": [
    "list_mse, coef = coefficients_sgd(df.values, 0.01, 100)"
   ]
  },
  {
   "cell_type": "code",
   "execution_count": 15,
   "metadata": {},
   "outputs": [
    {
     "data": {
      "image/png": "[encoded data removed]",
      "text/plain": [
       "<matplotlib.figure.Figure at 0x108ee25c0>"
      ]
     },
     "metadata": {},
     "output_type": "display_data"
    }
   ],
   "source": [
    "plt.plot(np.arange(len(list_mse)), list_mse)\n",
    "plt.xlabel(\"Épocas\")\n",
    "plt.ylabel(\"EQM\")\n",
    "plt.show()"
   ]
  },
  {
   "cell_type": "code",
   "execution_count": null,
   "metadata": {},
   "outputs": [],
   "source": []
  }
 ],
 "metadata": {
  "kernelspec": {
   "display_name": "Python 3",
   "language": "python",
   "name": "python3"
  },
  "language_info": {
   "codemirror_mode": {
    "name": "ipython",
    "version": 3
   },
   "file_extension": ".py",
   "mimetype": "text/x-python",
   "name": "python",
   "nbconvert_exporter": "python",
   "pygments_lexer": "ipython3",
   "version": "3.6.2"
  }
 },
 "nbformat": 4,
 "nbformat_minor": 2
}
